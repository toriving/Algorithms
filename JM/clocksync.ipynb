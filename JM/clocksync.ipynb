{
 "cells": [
  {
   "cell_type": "code",
   "execution_count": null,
   "metadata": {},
   "outputs": [],
   "source": [
    "# clocks = [clock, clock, ...] -> inputs\n",
    "def push(switch):\n",
    "    for i in range(len(clocks)):\n",
    "        if link[switch][i]:\n",
    "            clocks[i] += 3\n",
    "            if clocks[i] > 12:\n",
    "                clocks[i] = 3  \n"
   ]
  },
  {
   "cell_type": "code",
   "execution_count": null,
   "metadata": {},
   "outputs": [],
   "source": [
    "def check():\n",
    "    if clocks.count(12) == len(clocks):\n",
    "        return True\n",
    "    else:\n",
    "        return False"
   ]
  },
  {
   "cell_type": "code",
   "execution_count": null,
   "metadata": {},
   "outputs": [],
   "source": [
    "def solve(switch):\n",
    "    ret = INF\n",
    "    if switch == SWITCHES:\n",
    "        return 0 if check() else INF\n",
    "\n",
    "    for i in range(4):\n",
    "        ret = min(ret, i + solve(switch + 1))\n",
    "        push(switch)\n",
    "\n",
    "    \n",
    "    return ret"
   ]
  },
  {
   "cell_type": "code",
   "execution_count": null,
   "metadata": {},
   "outputs": [],
   "source": [
    "if __name__ == \"__main__\" :\n",
    "    SWITCHES = 10\n",
    "    CLOCKS = 16\n",
    "    INF = 10000\n",
    "#    link = ((0,1,2,3,4,5,6,7,8,9,0,1,2,3,4,5),  \n",
    "    link = ((1,1,1,0,0,0,0,0,0,0,0,0,0,0,0,0),\n",
    "            (0,0,0,1,0,0,0,1,0,1,0,1,0,0,0,0),\n",
    "            (0,0,0,0,1,0,0,0,0,0,1,0,0,0,1,1),\n",
    "            (1,0,0,0,1,1,1,1,0,0,0,0,0,0,0,0),\n",
    "            (0,0,0,0,0,0,1,1,1,0,1,0,1,0,0,0),\n",
    "            (1,0,1,0,0,0,0,0,0,0,0,0,0,0,1,1),\n",
    "            (0,0,0,1,0,0,0,0,0,0,0,0,0,0,1,1),\n",
    "            (0,0,0,0,1,1,0,1,0,0,0,0,0,0,1,1),\n",
    "            (0,1,1,1,1,1,0,0,0,0,0,0,0,0,0,0),\n",
    "            (0,0,0,1,1,1,0,0,0,1,0,0,0,1,0,0))\n",
    "    \n",
    "    clocks = [12, 6, 6, 6, 6, 6, 12, 12, 12, 12, 12, 12, 12, 12, 12, 12]\n",
    "    \n",
    "    print(solve(0))\n",
    "    \n",
    "    clocks = [12, 9, 3, 12, 6, 6, 9, 3, 12, 9, 12, 9, 12, 12, 6, 6]\n",
    "    \n",
    "    print(solve(0))\n"
   ]
  },
  {
   "cell_type": "code",
   "execution_count": null,
   "metadata": {},
   "outputs": [],
   "source": []
  }
 ],
 "metadata": {
  "kernelspec": {
   "display_name": "Python 3",
   "language": "python",
   "name": "python3"
  },
  "language_info": {
   "codemirror_mode": {
    "name": "ipython",
    "version": 3
   },
   "file_extension": ".py",
   "mimetype": "text/x-python",
   "name": "python",
   "nbconvert_exporter": "python",
   "pygments_lexer": "ipython3",
   "version": "3.6.5"
  }
 },
 "nbformat": 4,
 "nbformat_minor": 2
}
