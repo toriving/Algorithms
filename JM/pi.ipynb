{
 "cells": [
  {
   "cell_type": "code",
   "execution_count": null,
   "metadata": {},
   "outputs": [],
   "source": [
    "\n",
    "def main(start):\n",
    "    if start == len(N):\n",
    "        return 0\n",
    "    ret = cache[start]\n",
    "    if ret != -1:\n",
    "        return ret\n",
    "    \n",
    "    ret = 987654321\n",
    "    \n",
    "    for i in range(3, 6):\n",
    "        if start + i <= len(N):\n",
    "            ret = min(ret, main(start + i) + score(start, start + i))\n",
    "    \n",
    "    return ret\n",
    "\n",
    "def score(start, end):\n",
    "\n",
    "    M = N[start:end]\n",
    "    if M == M[0]*len(M):\n",
    "        return 1\n",
    "\n",
    "    progressive = True\n",
    "    for i in range(len(M) - 1):\n",
    "        if int(M[i+1]) - int(M[i]) != int(M[1]) - int(M[0]):\n",
    "            progressive = False\n",
    "            \n",
    "    if progressive and abs(int(M[1]) - int(M[0])) == 1:\n",
    "        return 2\n",
    "    \n",
    "    alternating = True\n",
    "    \n",
    "    for i in range(len(M)):\n",
    "        if M[i] != M[i%2]:\n",
    "            alternating = False\n",
    "    \n",
    "    if alternating:\n",
    "        return 4\n",
    "    \n",
    "    if progressive:\n",
    "        return 5\n",
    "\n",
    "    return 10\n"
   ]
  },
  {
   "cell_type": "code",
   "execution_count": null,
   "metadata": {},
   "outputs": [],
   "source": [
    "from collections import defaultdict"
   ]
  },
  {
   "cell_type": "code",
   "execution_count": null,
   "metadata": {},
   "outputs": [],
   "source": [
    "genres, plays = ['classic', 'pop', 'classic', 'classic', 'pop'], [500, 600, 150, 800, 2500]\t\n",
    "\n",
    "def solution(genres, plays):\n",
    "    s = list((x,(-y,i)) for (i,x),y in zip(enumerate(genres), plays))\n",
    "    dic = defaultdict(list)\n",
    "    play_number = defaultdict(int)\n",
    "    \n",
    "    for k, v in s:\n",
    "        dic[k].append(v)\n",
    "        play_number[k] += v[0]\n",
    "        \n",
    "        \n",
    "    rank = sorted(dic.keys(), key = lambda x : play_number[x])\n",
    "    answer = []\n",
    "    for r in rank:\n",
    "        answer.extend(idx for _, idx in sorted(dic[r])[:2])\n",
    "    return answer"
   ]
  },
  {
   "cell_type": "code",
   "execution_count": null,
   "metadata": {},
   "outputs": [],
   "source": []
  }
 ],
 "metadata": {
  "kernelspec": {
   "display_name": "Python 3",
   "language": "python",
   "name": "python3"
  },
  "language_info": {
   "codemirror_mode": {
    "name": "ipython",
    "version": 3
   },
   "file_extension": ".py",
   "mimetype": "text/x-python",
   "name": "python",
   "nbconvert_exporter": "python",
   "pygments_lexer": "ipython3",
   "version": "3.6.5"
  }
 },
 "nbformat": 4,
 "nbformat_minor": 2
}
