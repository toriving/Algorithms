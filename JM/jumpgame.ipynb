{
 "cells": [
  {
   "cell_type": "code",
   "execution_count": null,
   "metadata": {},
   "outputs": [],
   "source": [
    "def jump(y, x):\n",
    "    if y >= n or x >= n:\n",
    "        return False\n",
    "    if y == n-1 and x == n-1:\n",
    "        return True\n",
    "    jumpsize = board[y][x]\n",
    "    ret = jump(y + jumpsize, x) or jump(y, x + jumpsize)\n",
    "    \n",
    "    return ret\n"
   ]
  },
  {
   "cell_type": "code",
   "execution_count": null,
   "metadata": {},
   "outputs": [],
   "source": [
    "def jump2(y, x):\n",
    "    if y >= n or x >= n:\n",
    "        return 0\n",
    "    if y == n-1 and x == n-1:\n",
    "        return 1\n",
    "    ret = cache[y][x]\n",
    "    if ret != -1:\n",
    "        return ret\n",
    "    jumpsize = board[y][x]\n",
    "    ret = jump2(y + jumpsize, x) or jump2(y, x + jumpsize)\n",
    "    \n",
    "    return ret"
   ]
  },
  {
   "cell_type": "code",
   "execution_count": null,
   "metadata": {},
   "outputs": [],
   "source": [
    "'''n = 7\n",
    "board = [[2,5,1,6,1,4,1],[6,1,1,2,2,9,3],[7,2,3,2,1,3,1],[1,1,3,1,7,1,2],[4,1,2,3,4,1,2],[3,3,1,2,3,4,1],[1,5,2,9,4,7,0]]\n",
    "cache = [[-1] * n for x in range(n)]\n",
    "'''"
   ]
  },
  {
   "cell_type": "code",
   "execution_count": null,
   "metadata": {},
   "outputs": [],
   "source": [
    "'''jump(0,0)'''"
   ]
  }
 ],
 "metadata": {
  "kernelspec": {
   "display_name": "Python 3",
   "language": "python",
   "name": "python3"
  },
  "language_info": {
   "codemirror_mode": {
    "name": "ipython",
    "version": 3
   },
   "file_extension": ".py",
   "mimetype": "text/x-python",
   "name": "python",
   "nbconvert_exporter": "python",
   "pygments_lexer": "ipython3",
   "version": "3.6.5"
  }
 },
 "nbformat": 4,
 "nbformat_minor": 2
}
