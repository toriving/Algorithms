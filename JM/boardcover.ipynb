{
 "cells": [
  {
   "cell_type": "code",
   "execution_count": null,
   "metadata": {},
   "outputs": [],
   "source": [
    "def setting(board, y, x, tile_type, delta):\n",
    "    ok = True\n",
    "    \n",
    "    for i in range(3):\n",
    "        Flag= True\n",
    "        ny = y + coverType[tile_type][i][0]\n",
    "        nx = x + coverType[tile_type][i][1]\n",
    "        if ny < 0 or nx < 0 or ny >= len(board) or nx >= len(board[0]):\n",
    "            ok = False\n",
    "            Flag = False\n",
    "        elif (board[ny][nx] + delta) > 1:\n",
    "            ok = False\n",
    "        if Flag:\n",
    "            board[ny][nx] += delta\n",
    "    return ok"
   ]
  },
  {
   "cell_type": "code",
   "execution_count": null,
   "metadata": {},
   "outputs": [],
   "source": [
    "def cover(board):\n",
    "    x = y = -1\n",
    "    for i in range(len(board)):\n",
    "        for j in range(len(board[i])):\n",
    "            if board[i][j] == 0:\n",
    "                y = i\n",
    "                x = j\n",
    "                break\n",
    "\n",
    "        if y != -1:\n",
    "            break\n",
    "    \n",
    "    if y == -1:\n",
    "        return 1\n",
    "    \n",
    "    ret = 0\n",
    "    for t in range(4):\n",
    "        if setting(board, y, x, t, 1):\n",
    "            ret += cover(board)\n",
    "        setting(board, y, x, t, -1)\n",
    "    \n",
    "    return ret\n"
   ]
  },
  {
   "cell_type": "code",
   "execution_count": null,
   "metadata": {},
   "outputs": [],
   "source": [
    "if __name__ == \"__main__\" :\n",
    "    coverType = (\n",
    "                 ((0, 0), (1, 0), (0, 1)),\n",
    "                 ((0, 0), (0, 1), (1, 1)),\n",
    "                 ((0, 0), (1, 0), (1, 1)),\n",
    "                 ((0, 0), (1, 0), (1, -1))\n",
    "                )\n",
    "    \n",
    "    it = int(input('it : '))\n",
    "    for i in range(it):\n",
    "        n = int(input('n : '))\n",
    "        m = int(input('m : '))\n",
    "        board = [[0]*m for i in range(n)]\n",
    "        for i in range(n):\n",
    "            temp = input('')\n",
    "            for j in range(m):\n",
    "                if temp[j] == '#':\n",
    "                    board[i][j] = 1\n",
    "        print(board)\n",
    "        print(cover(board))\n",
    "        \n",
    "\"\"\"\n",
    "3 \n",
    "3 7 \n",
    "#.....# \n",
    "#.....# \n",
    "##...## \n",
    "3 7 \n",
    "#.....# \n",
    "#.....# \n",
    "##..### \n",
    "8 10 \n",
    "########## \n",
    "#........# \n",
    "#........# \n",
    "#........# \n",
    "#........# \n",
    "#........# \n",
    "#........# \n",
    "########## \n",
    "\"\"\""
   ]
  },
  {
   "cell_type": "code",
   "execution_count": null,
   "metadata": {},
   "outputs": [],
   "source": []
  }
 ],
 "metadata": {
  "kernelspec": {
   "display_name": "Python 3",
   "language": "python",
   "name": "python3"
  },
  "language_info": {
   "codemirror_mode": {
    "name": "ipython",
    "version": 3
   },
   "file_extension": ".py",
   "mimetype": "text/x-python",
   "name": "python",
   "nbconvert_exporter": "python",
   "pygments_lexer": "ipython3",
   "version": "3.6.5"
  }
 },
 "nbformat": 4,
 "nbformat_minor": 2
}
