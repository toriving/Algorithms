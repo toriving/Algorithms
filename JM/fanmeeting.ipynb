{
 "cells": [
  {
   "cell_type": "code",
   "execution_count": null,
   "metadata": {},
   "outputs": [],
   "source": [
    "def hug(m, f):\n",
    "    mm = int(m.replace(\"F\", \"0\").replace(\"M\", \"1\"), 2)\n",
    "    ff = int(f.replace(\"F\", \"0\").replace(\"M\", \"1\"), 2)\n",
    "    \n",
    "    cnt = 0\n",
    "    for _ in range(len(f) - len(m) + 1):\n",
    "        if int(mm & ff) == 0:\n",
    "            cnt += 1\n",
    "        mm = mm << 1\n",
    "    print(cnt)"
   ]
  },
  {
   "cell_type": "code",
   "execution_count": null,
   "metadata": {},
   "outputs": [],
   "source": [
    "if __name__ == '__main__':\n",
    "    C = int(input())\n",
    "    for _ in range(C):\n",
    "        member = input()\n",
    "        fan = input()\n",
    "        hug(member, fan)"
   ]
  }
 ],
 "metadata": {
  "kernelspec": {
   "display_name": "Python 3",
   "language": "python",
   "name": "python3"
  },
  "language_info": {
   "codemirror_mode": {
    "name": "ipython",
    "version": 3
   },
   "file_extension": ".py",
   "mimetype": "text/x-python",
   "name": "python",
   "nbconvert_exporter": "python",
   "pygments_lexer": "ipython3",
   "version": "3.6.5"
  }
 },
 "nbformat": 4,
 "nbformat_minor": 2
}
