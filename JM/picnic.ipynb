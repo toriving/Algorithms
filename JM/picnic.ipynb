{
 "cells": [
  {
   "cell_type": "code",
   "execution_count": null,
   "metadata": {},
   "outputs": [],
   "source": [
    "def countPairings(taken):\n",
    "    firstFree = -1\n",
    "    for i in range(n):\n",
    "        if not taken[i]:\n",
    "            firstFree = i\n",
    "            break\n",
    "    \n",
    "    if firstFree == -1:\n",
    "        return 1\n",
    "    \n",
    "    ret = 0\n",
    "    \n",
    "    for pairWith in range(firstFree + 1, n):\n",
    "        if (not taken[pairWith]) and (areFriends[firstFree][pairWith]):\n",
    "            taken[firstFree] = taken[pairWith] = True\n",
    "            ret = ret + countPairings(taken)\n",
    "            taken[firstFree] = taken[pairWith] = False\n",
    "    \n",
    "    return ret"
   ]
  },
  {
   "cell_type": "code",
   "execution_count": null,
   "metadata": {},
   "outputs": [],
   "source": [
    "if __name__ == \"__main__\" :\n",
    "    it = int(input('it : '))\n",
    "    for i in range(it):\n",
    "        areFriends = [[False]*10 for i in range(10)]\n",
    "        taken = [False] * 10\n",
    "        n = int(input('n : '))\n",
    "        m = int(input('m : '))\n",
    "        for _ in range(m):\n",
    "            first = int(input('first: '))\n",
    "            second = int(input('second: '))\n",
    "            areFriends[first][second] = True\n",
    "        print(countPairings(taken))"
   ]
  },
  {
   "cell_type": "code",
   "execution_count": null,
   "metadata": {},
   "outputs": [],
   "source": [
    "def countPairings(taken):\n",
    "    firstFree = -1\n",
    "    for i in range(n):\n",
    "        if not taken[i]:\n",
    "            firstFree = i\n",
    "            break\n",
    "\n",
    "    if firstFree == -1:\n",
    "        return 1\n",
    "\n",
    "    ret = 0\n",
    "\n",
    "    for pairWith in range(firstFree + 1, n):\n",
    "        if (not taken[pairWith]) and (areFriends[firstFree][pairWith]):\n",
    "            taken[firstFree] = taken[pairWith] = True\n",
    "            ret = ret + countPairings(taken)\n",
    "            taken[firstFree] = taken[pairWith] = False\n",
    "\n",
    "    return ret\n",
    "\n",
    "\n",
    "import sys\n",
    "\n",
    "rl = lambda: sys.stdin.readline()\n",
    "\n",
    "it = int(rl())\n",
    "for i in range(it):\n",
    "    areFriends = [[False] * 10 for i in range(10)]\n",
    "    taken = [False] * 10\n",
    "    inp = rl()\n",
    "    n = int(inp.split()[0])\n",
    "    m = int(inp.split()[1])\n",
    "\n",
    "    inp2 = rl()\n",
    "    inp2 = inp2.split()\n",
    "    idx = 0\n",
    "    for _ in range(m):\n",
    "        first = int(inp2[idx])\n",
    "        second = int(inp2[idx + 1])\n",
    "        idx = idx + 2\n",
    "        areFriends[first][second] = True\n",
    "    print(countPairings(taken))"
   ]
  },
  {
   "cell_type": "code",
   "execution_count": null,
   "metadata": {},
   "outputs": [],
   "source": []
  }
 ],
 "metadata": {
  "kernelspec": {
   "display_name": "Python 3",
   "language": "python",
   "name": "python3"
  },
  "language_info": {
   "codemirror_mode": {
    "name": "ipython",
    "version": 3
   },
   "file_extension": ".py",
   "mimetype": "text/x-python",
   "name": "python",
   "nbconvert_exporter": "python",
   "pygments_lexer": "ipython3",
   "version": "3.6.5"
  }
 },
 "nbformat": 4,
 "nbformat_minor": 2
}
