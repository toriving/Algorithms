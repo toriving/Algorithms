{
 "cells": [
  {
   "cell_type": "code",
   "execution_count": null,
   "metadata": {},
   "outputs": [],
   "source": [
    "if __name__ == '__main__':\n",
    "    c = int(input())\n",
    "    for _ in range(c):\n",
    "        n = int(input())\n",
    "        A = list(map(int, input().split()))\n",
    "        print(solve(0, len(A)-1))"
   ]
  },
  {
   "cell_type": "code",
   "execution_count": null,
   "metadata": {},
   "outputs": [],
   "source": [
    "def solve(left, right):\n",
    "    if left == right:\n",
    "        return A[left]\n",
    "    \n",
    "    mid = int((left + right) / 2)\n",
    "    ret = max(solve(left, mid), solve(mid+1, right))\n",
    "    \n",
    "    lo = mid\n",
    "    hi = mid+1\n",
    "    \n",
    "    height = min(A[lo], A[hi])\n",
    "    ret = max(ret, height * 2)\n",
    "    \n",
    "    while(left < lo or hi < right):\n",
    "        if hi < right and (lo == left or A[lo-1] < A[hi+1]):\n",
    "            hi += 1\n",
    "            height = min(height, A[hi])\n",
    "        else:\n",
    "            lo -= 1\n",
    "            height = min(height, A[lo])\n",
    "        ret = max(ret, height * (hi - lo + 1))\n",
    "    return ret"
   ]
  },
  {
   "cell_type": "code",
   "execution_count": null,
   "metadata": {},
   "outputs": [],
   "source": []
  }
 ],
 "metadata": {
  "kernelspec": {
   "display_name": "Python 3",
   "language": "python",
   "name": "python3"
  },
  "language_info": {
   "codemirror_mode": {
    "name": "ipython",
    "version": 3
   },
   "file_extension": ".py",
   "mimetype": "text/x-python",
   "name": "python",
   "nbconvert_exporter": "python",
   "pygments_lexer": "ipython3",
   "version": "3.6.5"
  }
 },
 "nbformat": 4,
 "nbformat_minor": 2
}
