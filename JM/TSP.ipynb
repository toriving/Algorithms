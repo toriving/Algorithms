{
 "cells": [
  {
   "cell_type": "code",
   "execution_count": null,
   "metadata": {},
   "outputs": [],
   "source": [
    "def shortestPath(path, visited, currentLength):\n",
    "    \n",
    "    if len(path) == n:\n",
    "        return currentLength + dist[path[0]][path[-1]]\n",
    "    \n",
    "    ret = 987654321\n",
    "    \n",
    "    for nxt in range(n):\n",
    "        if visited[nxt]:\n",
    "            continue\n",
    "        here = path[-1]\n",
    "        path.append(nxt)\n",
    "        visited[nxt] = True\n",
    "        cand = shortestPath(path, visited, currentLength + dist[here][nxt])\n",
    "\n",
    "        ret = min(ret, cand)\n",
    "        visited[nxt] = False\n",
    "        path.pop()\n",
    "    \n",
    "    return ret\n",
    "        "
   ]
  },
  {
   "cell_type": "code",
   "execution_count": null,
   "metadata": {},
   "outputs": [],
   "source": [
    "if __name__ == \"__main__\" :\n",
    "    \n",
    "    it = int(input('it : '))\n",
    "    for _ in range(it):\n",
    "        n = int(input('n : '))\n",
    "        dist = [[0]*n for i in range(n)]\n",
    "        visited = [False] * n\n",
    "        cand = []\n",
    "        for i in range(n):\n",
    "            for j in range(n):\n",
    "                dist[i][j] = float(input())\n",
    "                \n",
    "        for k in range(n):\n",
    "            path = [k]\n",
    "            visited = [i == k if True else False for i in range(n)] \n",
    "            cand.append(shortestPath(path, visited, 0))        \n",
    "        print(min(cand))\n",
    "        \n",
    "\"\"\"\n",
    "it :  1\n",
    "n :  3\n",
    " 0\n",
    " 611.6157225201\n",
    " 648.7500617289\n",
    " 611.6157225201\n",
    " 0\n",
    " 743.8557967501\n",
    " 648.7500617289\n",
    " 743.8557967501\n",
    " 0\n",
    " \"\"\""
   ]
  }
 ],
 "metadata": {
  "kernelspec": {
   "display_name": "Python 3",
   "language": "python",
   "name": "python3"
  },
  "language_info": {
   "codemirror_mode": {
    "name": "ipython",
    "version": 3
   },
   "file_extension": ".py",
   "mimetype": "text/x-python",
   "name": "python",
   "nbconvert_exporter": "python",
   "pygments_lexer": "ipython3",
   "version": "3.6.5"
  }
 },
 "nbformat": 4,
 "nbformat_minor": 2
}
