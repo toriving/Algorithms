{
 "cells": [
  {
   "cell_type": "code",
   "execution_count": null,
   "metadata": {},
   "outputs": [],
   "source": [
    "def pick(n, picked, toPick):\n",
    "    if toPick == 0:\n",
    "        print(picked)\n",
    "\n",
    "    smallest = 0 if len(picked) == 0 else picked[-1] + 1\n",
    "    \n",
    "    for i in range(smallest, n):\n",
    "        picked.append(i)\n",
    "        pick(n, picked, toPick - 1)\n",
    "        picked.pop()\n",
    "    "
   ]
  },
  {
   "cell_type": "code",
   "execution_count": null,
   "metadata": {},
   "outputs": [],
   "source": []
  }
 ],
 "metadata": {
  "kernelspec": {
   "display_name": "Python 3",
   "language": "python",
   "name": "python3"
  },
  "language_info": {
   "codemirror_mode": {
    "name": "ipython",
    "version": 3
   },
   "file_extension": ".py",
   "mimetype": "text/x-python",
   "name": "python",
   "nbconvert_exporter": "python",
   "pygments_lexer": "ipython3",
   "version": "3.6.5"
  }
 },
 "nbformat": 4,
 "nbformat_minor": 2
}
