{
 "cells": [
  {
   "cell_type": "code",
   "execution_count": null,
   "metadata": {},
   "outputs": [],
   "source": [
    "'''board = [['U', 'R', 'L', 'P', 'M'],\n",
    "         ['X', 'P', 'R', 'E', 'T'],\n",
    "         ['G', 'I', 'A', 'E', 'T'],\n",
    "         ['X', 'T', 'N', 'Z', 'Y'],\n",
    "         ['X', 'O', 'Q', 'R', 'S']]\n",
    "dx = (-1, -1, -1, 1, 1, 1, 0, 0)\n",
    "dy = (-1, 0, 1, -1, 0, 1, -1, 1)'''"
   ]
  },
  {
   "cell_type": "code",
   "execution_count": null,
   "metadata": {},
   "outputs": [],
   "source": [
    "def hasWord(y, x, word):\n",
    "    if x > 5 or y > 5 or x < 0 or y < 0:\n",
    "        return False\n",
    "    if board[y][x] != word[0]:\n",
    "        return False\n",
    "    if len(word) == 1:\n",
    "        return True\n",
    "    for xe, ye in zip(dx, dy):\n",
    "        nextY = y + ye\n",
    "        nextX = x + xe\n",
    "        if hasWord(nextY, nextX, word[1]):\n",
    "            return True\n",
    "    \n",
    "    return False"
   ]
  },
  {
   "cell_type": "code",
   "execution_count": null,
   "metadata": {},
   "outputs": [],
   "source": [
    "def ishasWord(word):\n",
    "    for x in range(5):\n",
    "        for y in range(5):\n",
    "            flag = hasWord(y, x, word)\n",
    "            if flag == 1:\n",
    "                return True\n",
    "    return False"
   ]
  },
  {
   "cell_type": "code",
   "execution_count": null,
   "metadata": {},
   "outputs": [],
   "source": []
  }
 ],
 "metadata": {
  "kernelspec": {
   "display_name": "Python 3",
   "language": "python",
   "name": "python3"
  },
  "language_info": {
   "codemirror_mode": {
    "name": "ipython",
    "version": 3
   },
   "file_extension": ".py",
   "mimetype": "text/x-python",
   "name": "python",
   "nbconvert_exporter": "python",
   "pygments_lexer": "ipython3",
   "version": "3.6.5"
  }
 },
 "nbformat": 4,
 "nbformat_minor": 2
}
