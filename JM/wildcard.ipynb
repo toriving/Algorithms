{
 "cells": [
  {
   "cell_type": "code",
   "execution_count": null,
   "metadata": {},
   "outputs": [],
   "source": [
    "def solve(wild_card, word):\n",
    "    len_word = len(word)\n",
    "    candidate = [True] + [False]*10\n",
    "    for w in wild_card:\n",
    "        if w == '*':\n",
    "            for i in range(1, len_word + 1):\n",
    "                candidate[i] = candidate[i-1] or candidate[i]\n",
    "        else:\n",
    "            for i in range(len_word-1, -1, -1):\n",
    "                if w == word[i]:\n",
    "                    candidate[i+1] = candidate[i]\n",
    "                else:\n",
    "                    candidate[i+1] = False\n",
    "            candidate[0] = False\n",
    "    if candidate[len_word]:\n",
    "        print(word)\n"
   ]
  },
  {
   "cell_type": "code",
   "execution_count": null,
   "metadata": {},
   "outputs": [],
   "source": [
    "if __name__ == '__main__':\n",
    "    wild_card = input()\n",
    "    for _ in range(int(input())):\n",
    "        word = input()\n",
    "        if solve(wild_card, word):\n",
    "            print(word)\n"
   ]
  },
  {
   "cell_type": "code",
   "execution_count": null,
   "metadata": {},
   "outputs": [],
   "source": [
    "def solve(wild_card, word):\n",
    "    len_word = len(word)\n",
    "    idx = 0\n",
    "    while idx < len(wild_card) and idx < len(word) and wild_card[idx] == word[idx]:\n",
    "        idx +=1\n",
    "    \n",
    "    if idx == len(wild_card):\n",
    "        return idx == len(word)\n",
    "    \n",
    "    if wild_card[idx] == '*':\n",
    "        for i in range(idx, len(word)):\n",
    "            if solve(wild_card[idx+1], word[idx+i]):\n",
    "                return 1\n",
    "    \n",
    "    return 0"
   ]
  },
  {
   "cell_type": "code",
   "execution_count": null,
   "metadata": {},
   "outputs": [],
   "source": []
  }
 ],
 "metadata": {
  "kernelspec": {
   "display_name": "Python 3",
   "language": "python",
   "name": "python3"
  },
  "language_info": {
   "codemirror_mode": {
    "name": "ipython",
    "version": 3
   },
   "file_extension": ".py",
   "mimetype": "text/x-python",
   "name": "python",
   "nbconvert_exporter": "python",
   "pygments_lexer": "ipython3",
   "version": "3.6.5"
  }
 },
 "nbformat": 4,
 "nbformat_minor": 2
}
