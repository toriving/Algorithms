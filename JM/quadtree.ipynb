{
 "cells": [
  {
   "cell_type": "code",
   "execution_count": null,
   "metadata": {},
   "outputs": [],
   "source": [
    "import sys"
   ]
  },
  {
   "cell_type": "code",
   "execution_count": null,
   "metadata": {},
   "outputs": [],
   "source": [
    "def quadtree(string, it):\n",
    "    it += 1\n",
    "    head = string[it]\n",
    "    if head == 'w' or head == 'b':\n",
    "        return head, it\n",
    "    \n",
    "    \n",
    "    upperLeft, it = quadtree(string, it)\n",
    "    upperRight, it = quadtree(string, it)\n",
    "    lowerLeft, it = quadtree(string, it)\n",
    "    lowerRight, it = quadtree(string, it)\n",
    "    \n",
    "    return 'x' + lowerLeft + lowerRight + upperLeft + upperRight, it\n"
   ]
  },
  {
   "cell_type": "code",
   "execution_count": null,
   "metadata": {},
   "outputs": [],
   "source": [
    "if __name__ == \"__main__\":\n",
    "    it = -1\n",
    "    n = int(input())\n",
    "    ps = []\n",
    "    for i in range(n):\n",
    "        ps.append(input())\n",
    "        print(quadtree(ps[i], -1)[0])"
   ]
  }
 ],
 "metadata": {
  "kernelspec": {
   "display_name": "Python 3",
   "language": "python",
   "name": "python3"
  },
  "language_info": {
   "codemirror_mode": {
    "name": "ipython",
    "version": 3
   },
   "file_extension": ".py",
   "mimetype": "text/x-python",
   "name": "python",
   "nbconvert_exporter": "python",
   "pygments_lexer": "ipython3",
   "version": "3.6.5"
  }
 },
 "nbformat": 4,
 "nbformat_minor": 2
}
