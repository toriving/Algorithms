{
 "cells": [
  {
   "cell_type": "code",
   "execution_count": null,
   "metadata": {},
   "outputs": [],
   "source": [
    "# 완전탐색\n",
    "if __name__ == '__main__':\n",
    "    c = int(input())\n",
    "    for _ in range(c):\n",
    "        n = int(input())\n",
    "        A = list([0]*n for i in range(n))\n",
    "#         cache = \n",
    "        for i in range(n):\n",
    "            tmp = list(map(int, input().split()))\n",
    "            for j in range(len(tmp)):\n",
    "                A[i][j] = tmp[j]\n",
    "        print(solve(0,0,0))"
   ]
  },
  {
   "cell_type": "code",
   "execution_count": null,
   "metadata": {},
   "outputs": [],
   "source": [
    "def solve(y, x, s): \n",
    "    if y + 1 == len(A):\n",
    "        return s + A[y][x]\n",
    "    return max(solve(y+1, x, s+A[y][x]), solve(y+1, x+1, s+A[y][x]))"
   ]
  },
  {
   "cell_type": "code",
   "execution_count": null,
   "metadata": {},
   "outputs": [],
   "source": [
    "# memoization\n",
    "if __name__ == '__main__':\n",
    "    c = int(input())\n",
    "    for _ in range(c):\n",
    "        n = int(input())\n",
    "        A = list([0]*n for i in range(n))\n",
    "        cache = list([[-1] * 100 for _ in range(100)] for _ in range(100000))\n",
    "        for i in range(n):\n",
    "            tmp = list(map(int, input().split()))\n",
    "            for j in range(len(tmp)):\n",
    "                A[i][j] = tmp[j]\n",
    "        print(solve(0,0,0))"
   ]
  },
  {
   "cell_type": "code",
   "execution_count": null,
   "metadata": {},
   "outputs": [],
   "source": [
    "def solve(y, x, s): \n",
    "    if y + 1 == len(A):\n",
    "        return s + A[y][x]\n",
    "    ret = cache[y][x][s]\n",
    "    if ret != -1:\n",
    "        return ret\n",
    "    s += A[y][x]\n",
    "    return max(solve(y+1, x, s), solve(y+1, x+1, s))"
   ]
  },
  {
   "cell_type": "code",
   "execution_count": null,
   "metadata": {},
   "outputs": [],
   "source": [
    "list([[-1] * n for _ in range(n)] for _ in range(100))[1][0]"
   ]
  },
  {
   "cell_type": "code",
   "execution_count": null,
   "metadata": {},
   "outputs": [],
   "source": [
    "# memoization upgrade\n",
    "if __name__ == '__main__':\n",
    "    c = int(input())\n",
    "    for _ in range(c):\n",
    "        n = int(input())\n",
    "        A = list([0]*n for i in range(n))\n",
    "        cache = list([-1] * 100 for _ in range(100))\n",
    "        for i in range(n):\n",
    "            tmp = list(map(int, input().split()))\n",
    "            for j in range(len(tmp)):\n",
    "                A[i][j] = tmp[j]\n",
    "        print(solve(0,0))\n"
   ]
  },
  {
   "cell_type": "code",
   "execution_count": null,
   "metadata": {},
   "outputs": [],
   "source": [
    "def solve(y, x): \n",
    "    if y + 1 == len(A):\n",
    "        return A[y][x]\n",
    "    ret = cache[y][x]\n",
    "    if ret != -1:\n",
    "        return ret\n",
    "    cache[y][x] = max(solve(y+1, x), solve(y+1, x+1)) + A[y][x]\n",
    "    return cache[y][x]"
   ]
  },
  {
   "cell_type": "code",
   "execution_count": null,
   "metadata": {},
   "outputs": [],
   "source": [
    "number = None\n",
    "N = None\n",
    "answer = 987654321\n",
    "def dfs(count, value):\n",
    "    global N, number, answer\n",
    "    if value == number:\n",
    "        answer = min(answer, count)\n",
    "    if count == 8:\n",
    "        return\n",
    "    for a in range(0,8-count):\n",
    "        soo = int(f\"{N}\" * (a+1))\n",
    "        dfs(count + a+1, value + soo)\n",
    "        dfs(count + a+1, value - soo)\n",
    "        dfs(count + a+1, value * soo)\n",
    "        if value % N == 0: dfs(count + a+1, value / soo)\n",
    "\n",
    "def solution(_, __):\n",
    "    global N, number, answer\n",
    "    N, number = _, __\n",
    "    dfs(0,0)\n",
    "    if answer == 987654321: return -1\n",
    "    return answer"
   ]
  },
  {
   "cell_type": "code",
   "execution_count": null,
   "metadata": {},
   "outputs": [],
   "source": [
    "def isPrime(number):\n",
    "    for divisor in range(2,number//2+1):\n",
    "        if number % divisor == 0: \n",
    "            return False\n",
    "    return True"
   ]
  },
  {
   "cell_type": "code",
   "execution_count": null,
   "metadata": {},
   "outputs": [],
   "source": [
    "isPrime(1)"
   ]
  },
  {
   "cell_type": "code",
   "execution_count": null,
   "metadata": {},
   "outputs": [],
   "source": [
    "from itertools import permutations"
   ]
  },
  {
   "cell_type": "code",
   "execution_count": null,
   "metadata": {},
   "outputs": [],
   "source": [
    "a = \"011\"\n",
    "A = []\n",
    "for i in range(1, len(a)+1):\n",
    "    A.extend(map(int, map(''.join, permutations(a,i))))\n",
    "A = set(A)"
   ]
  },
  {
   "cell_type": "code",
   "execution_count": null,
   "metadata": {},
   "outputs": [],
   "source": [
    "A | = 1"
   ]
  },
  {
   "cell_type": "code",
   "execution_count": null,
   "metadata": {},
   "outputs": [],
   "source": [
    "set() | set()"
   ]
  },
  {
   "cell_type": "code",
   "execution_count": null,
   "metadata": {},
   "outputs": [],
   "source": [
    "from itertools import permutations\n",
    "\n",
    "def solution(baseball):\n",
    "    candidate = list(permutations[range(1,10), 3])\n",
    "    answer = 0\n",
    "    return answer"
   ]
  },
  {
   "cell_type": "code",
   "execution_count": null,
   "metadata": {},
   "outputs": [],
   "source": [
    "\n",
    "candidate = list(map(''.join, permutations(map(str,range(1,10)),3)))"
   ]
  },
  {
   "cell_type": "code",
   "execution_count": null,
   "metadata": {},
   "outputs": [],
   "source": [
    "len(candidate)"
   ]
  },
  {
   "cell_type": "code",
   "execution_count": null,
   "metadata": {},
   "outputs": [],
   "source": [
    "from itertools import permutations\n",
    "\n",
    "def solution(baseball):\n",
    "    candidate = list(map(''.join, permutations(map(str,range(1,10)),3)))\n",
    "    ret = [True] * len(candidate)\n",
    "    for target in baseball:\n",
    "        for idx, cand in enumerate(candidate):\n",
    "            s = 0\n",
    "            b = 0\n",
    "            for i in range(3):\n",
    "                for j in range(3):\n",
    "                    if str(target[0])[i] == cand[j]:\n",
    "                        if i == j:\n",
    "                            s += 1\n",
    "                        else:\n",
    "                            b += 1\n",
    "            if s != target[1] or b != target[2]:\n",
    "                ret[idx] = False\n",
    "    return sum(ret)"
   ]
  },
  {
   "cell_type": "code",
   "execution_count": null,
   "metadata": {},
   "outputs": [],
   "source": [
    "# baseball = [[123, 1, 1], [356, 1, 0], [327, 2, 0], [489, 0, 1]]\t\n",
    "baseball = [[123, 3, 0]]\t\n",
    "solution(baseball)"
   ]
  },
  {
   "cell_type": "code",
   "execution_count": null,
   "metadata": {},
   "outputs": [],
   "source": [
    "def solution(name):\n",
    "    cand = \"A\" * len(name)\n",
    "    answer = 0\n",
    "    i = 0\n",
    "    \n",
    "    while i < len(name):\n",
    "        flag = False\n",
    "        answer += min(abs(ord(cand[i]) - ord(name[i])), abs(ord(cand[i]) - ord(name[i])+ 26))\n",
    "        if i+1 == len(name):\n",
    "            break\n",
    "        \n",
    "        while name[i+1] == \"A\" :\n",
    "            if not flag:\n",
    "                tmp = i\n",
    "            i += 1\n",
    "            flag = True\n",
    "            if i+1 == len(name):\n",
    "                return answer\n",
    "            \n",
    "        if flag:    \n",
    "            left = right = 0    \n",
    "            while True:\n",
    "                left -= 1\n",
    "                right += 1\n",
    "                print(left, right, i, len(name) + tmp + left , tmp+right)\n",
    "                if name[tmp + left] == name[i] and len(name) + tmp + left == i:\n",
    "                    answer += abs(left)\n",
    "                    break\n",
    "                elif name[tmp + right] == name[i] and tmp + right == i:\n",
    "                    answer += right\n",
    "                    break\n",
    "        else:\n",
    "            answer +=1\n",
    "        i += 1\n",
    "            \n",
    "    return answer"
   ]
  },
  {
   "cell_type": "code",
   "execution_count": null,
   "metadata": {},
   "outputs": [],
   "source": [
    "def solution(name):\n",
    "    cand = \"A\" * len(name)\n",
    "    answer = 0\n",
    "    i = 0\n",
    "    \n",
    "    while i < len(name):\n",
    "        flag = False\n",
    "        if name[i] != \"A\":\n",
    "            answer += min(abs(ord(cand[i]) - ord(name[i])), abs(ord(cand[i]) - ord(name[i])+ 26))\n",
    "        else:\n",
    "            while name[i] == \"A\" :\n",
    "                if not flag:\n",
    "                    tmp = i - 1\n",
    "                i += 1\n",
    "                flag = True\n",
    "            \n",
    "            if flag:    \n",
    "                left = right = 0    \n",
    "                while True:\n",
    "                    left -= 1\n",
    "                    right += 1\n",
    "                    if name[tmp + left] == name[i] and len(name) + tmp + left == i:\n",
    "                        answer += abs(left)\n",
    "                        break\n",
    "                    elif name[tmp + right] == name[i] and tmp + right == i:\n",
    "                        answer += right\n",
    "                        break\n",
    "\n",
    "        if i + 1 == len(name) and flag:\n",
    "            answer += min(abs(ord(cand[i]) - ord(name[i])), abs(ord(cand[i]) - ord(name[i])+ 26))\n",
    "            return answer - 1\n",
    "        i += 1\n",
    "        answer += 1\n",
    "\n",
    "    return answer - 1"
   ]
  },
  {
   "cell_type": "code",
   "execution_count": null,
   "metadata": {},
   "outputs": [],
   "source": [
    "def solution(name):\n",
    "    cand = \"A\" * len(name)\n",
    "    answer = 0\n",
    "    i = 0\n",
    "    \n",
    "    while i < len(name):\n",
    "        flag = False\n",
    "        if name[i] != \"A\":\n",
    "            answer += min(abs(ord(cand[i]) - ord(name[i])), abs(ord(cand[i]) - ord(name[i])+ 26))\n",
    "        else:\n",
    "            while name[i] == \"A\" :\n",
    "                if not flag:\n",
    "                    tmp = i - 1\n",
    "                i += 1\n",
    "                flag = True\n",
    "            \n",
    "            if flag:    \n",
    "                left = right = 0    \n",
    "                while True:\n",
    "                    left -= 1\n",
    "                    right += 1\n",
    "                    if name[tmp + left] == name[i] and len(name) + tmp + left == i:\n",
    "                        answer += abs(left)\n",
    "                        break\n",
    "                    elif name[tmp + right] == name[i] and tmp + right == i:\n",
    "                        answer += right\n",
    "                        break\n",
    "\n",
    "        if i + 1 == len(name) and flag:\n",
    "            answer += min(abs(ord(cand[i]) - ord(name[i])), abs(ord(cand[i]) - ord(name[i])+ 26))\n",
    "            return answer - 1\n",
    "        i += 1\n",
    "        answer += 1\n",
    "\n",
    "    return answer - 1"
   ]
  },
  {
   "cell_type": "code",
   "execution_count": null,
   "metadata": {},
   "outputs": [],
   "source": [
    "def solution(name):\n",
    "    cur = len(name) - 1\n",
    "    answer = 0\n",
    "    for i in name:\n",
    "        answer += 13 - abs(ord(i)-ord(chr(91-26//2)))\n",
    "\n",
    "    for i in range(1,len(name)):\n",
    "        for j in range(i,len(name)):\n",
    "            print(name[i:j+1])\n",
    "            print('A' * (j-1+1))\n",
    "            if name[i:j+1]=='A'*(j-i+1):\n",
    "                cur=min(cur,2*i+len(name)-j-3,i+2*(len(name)-j)-3)\n",
    "    answer += cur\n",
    "    return answer"
   ]
  },
  {
   "cell_type": "code",
   "execution_count": null,
   "metadata": {},
   "outputs": [],
   "source": []
  }
 ],
 "metadata": {
  "kernelspec": {
   "display_name": "Python 3",
   "language": "python",
   "name": "python3"
  },
  "language_info": {
   "codemirror_mode": {
    "name": "ipython",
    "version": 3
   },
   "file_extension": ".py",
   "mimetype": "text/x-python",
   "name": "python",
   "nbconvert_exporter": "python",
   "pygments_lexer": "ipython3",
   "version": "3.6.5"
  }
 },
 "nbformat": 4,
 "nbformat_minor": 2
}
