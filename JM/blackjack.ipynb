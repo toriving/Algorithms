{
 "cells": [
  {
   "cell_type": "code",
   "execution_count": null,
   "metadata": {},
   "outputs": [],
   "source": [
    "def choose(pos, cnt, sumc):\n",
    "    global ret\n",
    "    \n",
    "    if cnt == 3: \n",
    "        if sumc <= M:\n",
    "            ret = max(ret, sumc)        \n",
    "        return\n",
    "    \n",
    "    if sumc > M or pos >= N:\n",
    "        return \n",
    "    \n",
    "    choose(pos + 1, cnt + 1, sumc + cards[pos])\n",
    "    choose(pos + 1, cnt, sumc)\n",
    "\n",
    "    "
   ]
  },
  {
   "cell_type": "code",
   "execution_count": null,
   "metadata": {},
   "outputs": [],
   "source": [
    "if __name__ == \"__main__\" :\n",
    "    N, M = map(int, input().split())\n",
    "    cards = list(map(int, input().split()))\n",
    "    ret = 0\n",
    "    choose(0, 0, 0)\n",
    "    print(ret)\n",
    "    \n"
   ]
  },
  {
   "cell_type": "code",
   "execution_count": null,
   "metadata": {},
   "outputs": [],
   "source": []
  }
 ],
 "metadata": {
  "kernelspec": {
   "display_name": "Python 3",
   "language": "python",
   "name": "python3"
  },
  "language_info": {
   "codemirror_mode": {
    "name": "ipython",
    "version": 3
   },
   "file_extension": ".py",
   "mimetype": "text/x-python",
   "name": "python",
   "nbconvert_exporter": "python",
   "pygments_lexer": "ipython3",
   "version": "3.6.5"
  }
 },
 "nbformat": 4,
 "nbformat_minor": 2
}
