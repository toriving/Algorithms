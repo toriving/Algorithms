{
 "cells": [
  {
   "cell_type": "code",
   "execution_count": 4,
   "metadata": {},
   "outputs": [],
   "source": [
    "def identity(n):\n",
    "    m = []\n",
    "    for i in range(n):\n",
    "        matrix = []\n",
    "        for j in range(n):\n",
    "            if i == j:\n",
    "                matrix.append(1)\n",
    "            else:\n",
    "                matrix.append(0)\n",
    "        m.append(matrix)\n",
    "    return m"
   ]
  },
  {
   "cell_type": "code",
   "execution_count": 7,
   "metadata": {},
   "outputs": [],
   "source": [
    "def matrix_power(M, n):\n",
    "    if n == 0:\n",
    "        return identity(n)\n",
    "    if n % 2 > 0:\n",
    "        return matrix_power(M, n - 1)\n",
    "    half = matrix_power(M, n/2)\n",
    "    return half * half"
   ]
  },
  {
   "cell_type": "code",
   "execution_count": null,
   "metadata": {},
   "outputs": [],
   "source": []
  }
 ],
 "metadata": {
  "kernelspec": {
   "display_name": "Python 3",
   "language": "python",
   "name": "python3"
  },
  "language_info": {
   "codemirror_mode": {
    "name": "ipython",
    "version": 3
   },
   "file_extension": ".py",
   "mimetype": "text/x-python",
   "name": "python",
   "nbconvert_exporter": "python",
   "pygments_lexer": "ipython3",
   "version": "3.6.5"
  }
 },
 "nbformat": 4,
 "nbformat_minor": 2
}
