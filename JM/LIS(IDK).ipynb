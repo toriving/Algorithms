{
 "cells": [
  {
   "cell_type": "code",
   "execution_count": null,
   "metadata": {},
   "outputs": [],
   "source": [
    "if __name__ == '__main__':\n",
    "    \n",
    "    c = int(input())\n",
    "    for _ in range(c):\n",
    "        n = int(input())\n",
    "        \n",
    "        cache = [-1] * 100\n",
    "        tmp = list(map(int, input().split()))\n",
    "        print(solve(0))\n"
   ]
  },
  {
   "cell_type": "code",
   "execution_count": null,
   "metadata": {},
   "outputs": [],
   "source": [
    "def solve(A):\n",
    "    len_A = len(A)\n",
    "    if len_A == 0:\n",
    "        return 0    \n",
    "    for i in range(len_A):\n",
    "        B = []\n",
    "        for j in range(i+1, len_A):\n",
    "            if A[i] < A[j]:\n",
    "                B.append(A[j])\n",
    "        ret = max(ret, 1+ solve(B))\n",
    "    return ret"
   ]
  },
  {
   "cell_type": "code",
   "execution_count": null,
   "metadata": {},
   "outputs": [],
   "source": [
    "def solve(start):\n",
    "    \n",
    "    if cache[start] != -1:\n",
    "        return cache[start]\n",
    "    cache[start] = 1\n",
    "    for i in range(start+1, n):\n",
    "        if tmp[start] < tmp[i]:\n",
    "            cache[start] = max(cache[start], solve(i) + 1)\n",
    "    return cache[start]\n"
   ]
  },
  {
   "cell_type": "code",
   "execution_count": null,
   "metadata": {},
   "outputs": [],
   "source": [
    "import collections"
   ]
  },
  {
   "cell_type": "code",
   "execution_count": null,
   "metadata": {},
   "outputs": [],
   "source": [
    "A= collections.Counter(['a','b','c','a'])"
   ]
  },
  {
   "cell_type": "code",
   "execution_count": null,
   "metadata": {},
   "outputs": [],
   "source": [
    "B= collections.Counter(['a','b','c'])"
   ]
  },
  {
   "cell_type": "code",
   "execution_count": null,
   "metadata": {},
   "outputs": [],
   "source": [
    "A - B"
   ]
  },
  {
   "cell_type": "code",
   "execution_count": null,
   "metadata": {},
   "outputs": [],
   "source": [
    "def solution(phone_book):\n",
    "    phone_book.sort()\n",
    "    for p1, p2 in zip(phone_book, phone_book[1:]):\n",
    "        print(p1, p2)\n",
    "        if p2.startswith(p1):\n",
    "            return False\n",
    "    return True"
   ]
  },
  {
   "cell_type": "code",
   "execution_count": null,
   "metadata": {},
   "outputs": [],
   "source": [
    "a = [119, 97674223, 1195524421]\n",
    "a = list(map(str, a))"
   ]
  },
  {
   "cell_type": "code",
   "execution_count": null,
   "metadata": {},
   "outputs": [],
   "source": [
    "str.startswith"
   ]
  },
  {
   "cell_type": "code",
   "execution_count": null,
   "metadata": {},
   "outputs": [],
   "source": [
    "solution(a)"
   ]
  },
  {
   "cell_type": "code",
   "execution_count": null,
   "metadata": {},
   "outputs": [],
   "source": [
    "from itertools import combinations"
   ]
  },
  {
   "cell_type": "code",
   "execution_count": null,
   "metadata": {},
   "outputs": [],
   "source": [
    "list(combinations([[1,2],[3,4],[5,6]],2))"
   ]
  },
  {
   "cell_type": "code",
   "execution_count": null,
   "metadata": {},
   "outputs": [],
   "source": [
    "from collections import Counter\n",
    "\n",
    "def solution(clothes):\n",
    "    c_category = Counter([x for _, x in clothes])\n",
    "    ret = 1\n",
    "    for key in c_category:\n",
    "        ret *= (c_category[key] + 1)\n",
    "\n",
    "    return ret - 1\n"
   ]
  },
  {
   "cell_type": "code",
   "execution_count": null,
   "metadata": {},
   "outputs": [],
   "source": [
    "clothes = [[\"yellow_hat\", \"headgear\"], [\"blue_sunglasses\", \"eyewear\"], [\"green_turban\", \"headgear\"]]"
   ]
  },
  {
   "cell_type": "code",
   "execution_count": null,
   "metadata": {},
   "outputs": [],
   "source": [
    "solution(clothes)"
   ]
  },
  {
   "cell_type": "code",
   "execution_count": null,
   "metadata": {},
   "outputs": [],
   "source": [
    "list(map(lambda x, y: x+y, [1, 2, 3, 4, 5]))"
   ]
  },
  {
   "cell_type": "code",
   "execution_count": null,
   "metadata": {},
   "outputs": [],
   "source": [
    "def solution(clothes):\n",
    "    from collections import Counter\n",
    "    from functools import reduce\n",
    "    cnt = Counter([kind for name, kind in clothes])\n",
    "    answer = reduce(lambda x, y: x*(y+1), cnt.values(), 1) - 1\n",
    "    return answer"
   ]
  },
  {
   "cell_type": "code",
   "execution_count": null,
   "metadata": {},
   "outputs": [],
   "source": [
    "solution(clothes)"
   ]
  },
  {
   "cell_type": "code",
   "execution_count": null,
   "metadata": {},
   "outputs": [],
   "source": [
    "from collections import defaultdict\n",
    "def solution(genres, plays):\n",
    "    play_genres = defaultdict(int)\n",
    "    song_genres = defaultdict(list)\n",
    "    \n",
    "\n",
    "    print(play_genres)\n",
    "    print(song_genres)\n"
   ]
  },
  {
   "cell_type": "code",
   "execution_count": null,
   "metadata": {},
   "outputs": [],
   "source": [
    "Counter()"
   ]
  },
  {
   "cell_type": "code",
   "execution_count": null,
   "metadata": {},
   "outputs": [],
   "source": [
    "genres = ['classic', 'pop', 'classic', 'classic', 'pop']\n",
    "plays = [500, 600, 150, 800, 2500]"
   ]
  },
  {
   "cell_type": "code",
   "execution_count": null,
   "metadata": {},
   "outputs": [],
   "source": [
    "solution(genres, plays)"
   ]
  },
  {
   "cell_type": "code",
   "execution_count": null,
   "metadata": {},
   "outputs": [],
   "source": [
    "counter()"
   ]
  },
  {
   "cell_type": "code",
   "execution_count": null,
   "metadata": {},
   "outputs": [],
   "source": [
    "def solution(answers):\n",
    "    A = [1,2,3,4,5] * 10000\n",
    "    B = [2,1,2,3,2,4,2,5]\n",
    "    C = [3,3,1,1,2,2,4,4,5,5]\n",
    "    answer = [0]*3\n",
    "    for i in range(len(answers)):\n",
    "        if A[i] == answer[i]:\n",
    "            answer[0] +=1\n",
    "        if B[i] == answer [i]:\n",
    "            answer[1] +=1\n",
    "        if C[i] == answer[i]:\n",
    "            answer[2] +=1\n",
    "    \n",
    "    if answer[0] == answer[1] == answer[2]:\n",
    "        return [1,2,3]\n",
    "    \n",
    "    \n",
    "    \n",
    "    return answer.index(max(answer))+1"
   ]
  },
  {
   "cell_type": "code",
   "execution_count": null,
   "metadata": {},
   "outputs": [],
   "source": [
    "answers = [1,2,3,4,5]\n",
    "A = [1,2,3,4,5]\n",
    "B = [2,1,2,3,2,4,2,5]\n",
    "C = [3,3,1,1,2,2,4,4,5,5]"
   ]
  },
  {
   "cell_type": "code",
   "execution_count": null,
   "metadata": {},
   "outputs": [],
   "source": []
  },
  {
   "cell_type": "code",
   "execution_count": null,
   "metadata": {},
   "outputs": [],
   "source": [
    "priorites = [1,1,9,1,1,1]\n",
    "location = 0"
   ]
  },
  {
   "cell_type": "code",
   "execution_count": null,
   "metadata": {},
   "outputs": [],
   "source": [
    "a = [6, 10, 2]"
   ]
  },
  {
   "cell_type": "code",
   "execution_count": null,
   "metadata": {},
   "outputs": [],
   "source": [
    "from itertools import permutations\n",
    "from functools import reduce"
   ]
  },
  {
   "cell_type": "code",
   "execution_count": null,
   "metadata": {},
   "outputs": [],
   "source": [
    "b = list(permutations(a, len(a)))"
   ]
  },
  {
   "cell_type": "code",
   "execution_count": null,
   "metadata": {},
   "outputs": [],
   "source": [
    "max(list(reduce(lambda x,y: str(x)+str(y), k) for k in b))"
   ]
  },
  {
   "cell_type": "code",
   "execution_count": null,
   "metadata": {},
   "outputs": [],
   "source": [
    "sorted(list(str(x)[0] for x in a), reverse=True)"
   ]
  },
  {
   "cell_type": "code",
   "execution_count": null,
   "metadata": {},
   "outputs": [],
   "source": [
    "import heapq"
   ]
  },
  {
   "cell_type": "code",
   "execution_count": null,
   "metadata": {},
   "outputs": [],
   "source": [
    "heap = []"
   ]
  },
  {
   "cell_type": "code",
   "execution_count": null,
   "metadata": {},
   "outputs": [],
   "source": [
    "scoville = [1, 2, 3, 9, 10, 12]"
   ]
  },
  {
   "cell_type": "code",
   "execution_count": null,
   "metadata": {},
   "outputs": [],
   "source": [
    "heapq.heappush(heap, scoville)\n",
    "s"
   ]
  },
  {
   "cell_type": "code",
   "execution_count": null,
   "metadata": {},
   "outputs": [],
   "source": [
    "K = 7"
   ]
  },
  {
   "cell_type": "code",
   "execution_count": null,
   "metadata": {},
   "outputs": [],
   "source": [
    "ret = 0\n",
    "while min(heap) < K:\n",
    "    heapq.heappush(heap, heapq.heappop(heap) + heapq.heappop(heap)*2)\n",
    "    ret += 1\n"
   ]
  },
  {
   "cell_type": "code",
   "execution_count": null,
   "metadata": {},
   "outputs": [],
   "source": [
    "heap"
   ]
  },
  {
   "cell_type": "code",
   "execution_count": null,
   "metadata": {},
   "outputs": [],
   "source": [
    "a = heap.pop()"
   ]
  },
  {
   "cell_type": "code",
   "execution_count": null,
   "metadata": {},
   "outputs": [],
   "source": [
    "heights = [6,9,5,7,4]\n"
   ]
  },
  {
   "cell_type": "code",
   "execution_count": null,
   "metadata": {},
   "outputs": [],
   "source": [
    "def solution(heights):\n",
    "    answer = [0] * len(heights)\n",
    "    while heights:\n",
    "        right = heights.pop()\n",
    "        for idx in range(len(heights)-1,-1,-1):\n",
    "            if heights[idx] > right:\n",
    "                print(idx, heights)\n",
    "                answer[len(heights)] = idx+1\n",
    "                break\n",
    "    return answer"
   ]
  },
  {
   "cell_type": "code",
   "execution_count": null,
   "metadata": {},
   "outputs": [],
   "source": [
    "solution(heights)"
   ]
  },
  {
   "cell_type": "code",
   "execution_count": null,
   "metadata": {},
   "outputs": [],
   "source": [
    "heights.reverse()"
   ]
  },
  {
   "cell_type": "code",
   "execution_count": null,
   "metadata": {},
   "outputs": [],
   "source": [
    "heights"
   ]
  },
  {
   "cell_type": "code",
   "execution_count": null,
   "metadata": {},
   "outputs": [],
   "source": [
    "def solution(priorities, location):\n",
    "    answer = 1\n",
    "    target_idx = location\n",
    "    while True:\n",
    "        max_p = max(priorities)\n",
    "\n",
    "        if priorities[0] == max_p and target_idx == 0:\n",
    "\n",
    "            return answer\n",
    "        \n",
    "        elif priorities[0] == max_p and target_idx !=0:\n",
    "\n",
    "            priorities = priorities[1:]\n",
    "            answer += 1\n",
    "              \n",
    "        else:\n",
    "            priorities = [*priorities[1:], priorities[0]]\n",
    "            \n",
    "        if target_idx == 0:\n",
    "            target_idx = len(priorities) - 1\n",
    "        else:\n",
    "            target_idx -= 1\n",
    "        "
   ]
  },
  {
   "cell_type": "code",
   "execution_count": null,
   "metadata": {},
   "outputs": [],
   "source": [
    "priorities = [2,1,3,2]\n",
    "location=2"
   ]
  },
  {
   "cell_type": "code",
   "execution_count": null,
   "metadata": {},
   "outputs": [],
   "source": [
    "priorities = [3]\n",
    "location=0"
   ]
  },
  {
   "cell_type": "code",
   "execution_count": null,
   "metadata": {},
   "outputs": [],
   "source": [
    "priorities = [1,1,9,1,1,1]\n",
    "location=0"
   ]
  },
  {
   "cell_type": "code",
   "execution_count": null,
   "metadata": {},
   "outputs": [],
   "source": [
    "solution(priorities, location)"
   ]
  },
  {
   "cell_type": "code",
   "execution_count": null,
   "metadata": {},
   "outputs": [],
   "source": [
    "b = priorities[1:].append(priorities[0])"
   ]
  },
  {
   "cell_type": "code",
   "execution_count": null,
   "metadata": {},
   "outputs": [],
   "source": []
  },
  {
   "cell_type": "code",
   "execution_count": null,
   "metadata": {},
   "outputs": [],
   "source": [
    "[*priorities[1:],3]"
   ]
  },
  {
   "cell_type": "code",
   "execution_count": null,
   "metadata": {},
   "outputs": [],
   "source": [
    "id('s')"
   ]
  },
  {
   "cell_type": "code",
   "execution_count": null,
   "metadata": {},
   "outputs": [],
   "source": [
    "id('s')"
   ]
  },
  {
   "cell_type": "code",
   "execution_count": null,
   "metadata": {},
   "outputs": [],
   "source": [
    "arrangement = '()(((()())(())()))(())'"
   ]
  },
  {
   "cell_type": "code",
   "execution_count": null,
   "metadata": {},
   "outputs": [],
   "source": [
    "def solution(arrangement):\n",
    "    ary = []\n",
    "    answer = 0\n",
    "    for x in arrangement:\n",
    "        if x == '(':\n",
    "            ary.append(x)\n",
    "            last = x\n",
    "        else:\n",
    "            if last == '(':\n",
    "                ary.pop()\n",
    "                answer += len(ary)\n",
    "                last = x\n",
    "            else:\n",
    "                ary.pop()\n",
    "                answer += 1\n",
    "            \n",
    "            \n",
    "\n",
    "    return answer"
   ]
  },
  {
   "cell_type": "code",
   "execution_count": null,
   "metadata": {},
   "outputs": [],
   "source": [
    "solution(arrangement)"
   ]
  },
  {
   "cell_type": "code",
   "execution_count": null,
   "metadata": {},
   "outputs": [],
   "source": [
    "def solution(bridge_length, weight, truck_weights):\n",
    "    answer = 0\n",
    "    on = []\n",
    "    time = []\n",
    "    idx = 0\n",
    "    while True:\n",
    "        for i, x in enumerate(time):\n",
    "            if x != -1:\n",
    "                time[i] += 1\n",
    "            if x == bridge_length:\n",
    "                on.pop(0)\n",
    "                time[i] = -1\n",
    "        \n",
    "        if truck_weights:\n",
    "            if sum(on) + truck_weights[0] <= weight:\n",
    "                on.append(truck_weights.pop(0))\n",
    "                time.append(1)\n",
    "                idx+=1\n",
    "        \n",
    "        \n",
    "        if len(on) == 0 and len(truck_weights) == 0:\n",
    "            return answer + 1 \n",
    "        answer += 1\n"
   ]
  },
  {
   "cell_type": "code",
   "execution_count": null,
   "metadata": {},
   "outputs": [],
   "source": [
    "def solution(bridge_length, weight, truck_weights):\n",
    "    q=[0]*bridge_length\n",
    "    sec=0\n",
    "    while q:\n",
    "        sec+=1\n",
    "        q.pop(0)\n",
    "        if truck_weights:\n",
    "            if sum(q)+truck_weights[0]<=weight:\n",
    "                q.append(truck_weights.pop(0))\n",
    "            else:\n",
    "                q.append(0)\n",
    "        print(q)\n",
    "    return sec\n"
   ]
  },
  {
   "cell_type": "code",
   "execution_count": null,
   "metadata": {},
   "outputs": [],
   "source": [
    "# bridge_length, weight, truck_weights = 2,10,[7,4,5,6]\n",
    "# bridge_length, weight, truck_weights = 100,100,[10]\n",
    "bridge_length, weight, truck_weights = 100,100,[10,10,10,10,10,10,10,10,10,10]"
   ]
  },
  {
   "cell_type": "code",
   "execution_count": null,
   "metadata": {},
   "outputs": [],
   "source": [
    "solution(bridge_length, weight, truck_weights)"
   ]
  },
  {
   "cell_type": "code",
   "execution_count": null,
   "metadata": {},
   "outputs": [],
   "source": [
    "a = [1,2,3]\n"
   ]
  },
  {
   "cell_type": "code",
   "execution_count": null,
   "metadata": {},
   "outputs": [],
   "source": [
    "if a:\n",
    "    print(1)"
   ]
  },
  {
   "cell_type": "code",
   "execution_count": null,
   "metadata": {},
   "outputs": [],
   "source": []
  },
  {
   "cell_type": "code",
   "execution_count": null,
   "metadata": {},
   "outputs": [],
   "source": [
    "progresses, speeds = [93,30,55],\t[1,30,5]\n",
    "def solution(progresses, speeds):\n",
    "    answer = []\n",
    "    \n",
    "    while progresses:\n",
    "        cnt = 0\n",
    "        progresses = [sum(x) for x in zip(progresses, speeds)]\n",
    "        while progresses[0] >= 100:\n",
    "            progresses.pop(0)\n",
    "            speeds.pop(0)\n",
    "            cnt += 1\n",
    "            if len(progresses) == 0:\n",
    "                break\n",
    "        if cnt > 0:\n",
    "            answer.append(cnt)\n",
    "    return answer"
   ]
  },
  {
   "cell_type": "code",
   "execution_count": null,
   "metadata": {},
   "outputs": [],
   "source": [
    "solution(progresses, speeds)"
   ]
  },
  {
   "cell_type": "code",
   "execution_count": null,
   "metadata": {},
   "outputs": [],
   "source": [
    "progresses + speeds"
   ]
  },
  {
   "cell_type": "code",
   "execution_count": null,
   "metadata": {},
   "outputs": [],
   "source": [
    "[sum(x) for x in zip(progresses, speeds)]"
   ]
  },
  {
   "cell_type": "code",
   "execution_count": null,
   "metadata": {},
   "outputs": [],
   "source": [
    "-70//30"
   ]
  },
  {
   "cell_type": "code",
   "execution_count": null,
   "metadata": {},
   "outputs": [],
   "source": [
    "def solution(progresses, speeds):\n",
    "    Q=[]\n",
    "    for p, s in zip(progresses, speeds):\n",
    "        if len(Q)==0 or Q[-1][0]<-((p-100)//s):\n",
    "            Q.append([-((p-100)//s),1])\n",
    "        else:\n",
    "            Q[-1][1]+=1\n",
    "    return [q[1] for q in Q]"
   ]
  },
  {
   "cell_type": "code",
   "execution_count": null,
   "metadata": {},
   "outputs": [],
   "source": [
    "answer = [1]*(5 - 1)+[0]\n",
    "answer"
   ]
  },
  {
   "cell_type": "code",
   "execution_count": null,
   "metadata": {},
   "outputs": [],
   "source": [
    "prices = [1,2,3,2,3]\n",
    "def solution(prices):\n",
    "    answer = list(range(len(prices)-1, -1, -1))\n",
    "    for i in range(len(prices)):\n",
    "        for j in range(i+1, len(prices)):\n",
    "            if prices[i] > prices[j]:\n",
    "                answer[i] = j-i\n",
    "                break\n",
    "    return answer"
   ]
  },
  {
   "cell_type": "code",
   "execution_count": null,
   "metadata": {},
   "outputs": [],
   "source": [
    "solution(prices)"
   ]
  },
  {
   "cell_type": "code",
   "execution_count": null,
   "metadata": {},
   "outputs": [],
   "source": [
    "def solution(prices):\n",
    "    answer = [0] * len(prices)\n",
    "\n",
    "    for i in range(len(prices)-1):\n",
    "        for j in range(i, len(prices)-1):\n",
    "            if prices[i] >prices[j]:\n",
    "                break\n",
    "            else:\n",
    "                answer[i] +=1\n",
    "    return answer"
   ]
  },
  {
   "cell_type": "code",
   "execution_count": null,
   "metadata": {},
   "outputs": [],
   "source": [
    "money = [1, 2, 3, 1]\n",
    "def solution(money):\n",
    "    first = 0\n",
    "    second = 0\n",
    "    if len(money) == 3:\n",
    "        return max(money)\n",
    "    \n",
    "    first = [money[0], money[1], money[0] + money[2], max(money[0], money[1]) + money[3]]\n",
    "    second = [money[1], money[2], money[1] + money[3]]\n",
    "    \n",
    "    \n",
    "    for x in money[4:]:\n",
    "        first.append(max(first[-2], first[-3]) + x)\n",
    "        second.append(max(second[-2], second[-3]) + x)\n",
    "\n",
    "    return max(first[-3], first[-2], second[-1])"
   ]
  },
  {
   "cell_type": "code",
   "execution_count": null,
   "metadata": {},
   "outputs": [],
   "source": [
    "for i in range(2, 2):\n",
    "    print(i)"
   ]
  },
  {
   "cell_type": "code",
   "execution_count": null,
   "metadata": {},
   "outputs": [],
   "source": [
    "def solution(money):\n",
    "    a = answer(money[1:])\n",
    "    b = answer(money[2:-1]) + money[0]\n",
    "    return max(a, b)\n",
    "\n",
    "def answer(money):\n",
    "    if len(money) == 1:\n",
    "        return money[0]\n",
    "    p1 = money[1]\n",
    "    p2 = money[0]\n",
    "    if len(money) == 2:\n",
    "        return max(money)\n",
    "    for i in range(2, len(money)):\n",
    "        ret = max(p2 + money[i], p1)\n",
    "        p2 = p1\n",
    "        p1 = ret\n",
    "    \n",
    "    return ret\n",
    "\n",
    "money = [1,2,3,1,2]"
   ]
  },
  {
   "cell_type": "code",
   "execution_count": null,
   "metadata": {},
   "outputs": [],
   "source": [
    "solution(money)"
   ]
  },
  {
   "cell_type": "code",
   "execution_count": null,
   "metadata": {},
   "outputs": [],
   "source": [
    "numbers = [3, 30, 34, 5, 9]\n",
    "numbers.sort(reverse=True)\n",
    "string = list(list(str(x)) for x in numbers)\n",
    "string\n"
   ]
  },
  {
   "cell_type": "code",
   "execution_count": null,
   "metadata": {},
   "outputs": [],
   "source": [
    "numbers = ['3', '30', '34', '5', '9']\n",
    "numbers.sort(reverse=True)"
   ]
  },
  {
   "cell_type": "code",
   "execution_count": null,
   "metadata": {},
   "outputs": [],
   "source": [
    "numbers"
   ]
  },
  {
   "cell_type": "code",
   "execution_count": null,
   "metadata": {},
   "outputs": [],
   "source": [
    "import functools\n",
    "numbers = [3, 30, 34, 5, 9]\n",
    "a = list(str(x) for x in numbers)\n",
    "a.sort(key=functools.cmp_to_key(lambda x,y : int(x+y) - int(y+x)), reverse=True)\n",
    "a.sort()"
   ]
  },
  {
   "cell_type": "code",
   "execution_count": null,
   "metadata": {},
   "outputs": [],
   "source": [
    "num = ''\n",
    "for x in a:\n",
    "    num += x "
   ]
  },
  {
   "cell_type": "code",
   "execution_count": null,
   "metadata": {},
   "outputs": [],
   "source": []
  },
  {
   "cell_type": "code",
   "execution_count": null,
   "metadata": {},
   "outputs": [],
   "source": [
    "\n",
    "def main(start):\n",
    "    if start == len(N):\n",
    "        return 0\n",
    "    ret = cache[start]\n",
    "    if ret != -1:\n",
    "        return ret\n",
    "    \n",
    "    ret = 987654321\n",
    "    \n",
    "    for i in range(3, 6):\n",
    "        if start + i <= len(N):\n",
    "            ret = min(ret, main(start + i) + score(start, start + i))\n",
    "    \n",
    "    return ret\n",
    "\n",
    "def score(start, end):\n",
    "\n",
    "    M = N[start:end]\n",
    "    if M == M[0]*len(M):\n",
    "        return 1\n",
    "\n",
    "    progressive = True\n",
    "    for i in range(len(M) - 1):\n",
    "        if int(M[i+1]) - int(M[i]) != int(M[1]) - int(M[0]):\n",
    "            progressive = False\n",
    "            \n",
    "    if progressive and abs(int(M[1]) - int(M[0])) == 1:\n",
    "        return 2\n",
    "    \n",
    "    alternating = True\n",
    "    \n",
    "    for i in range(len(M)):\n",
    "        if M[i] != M[i%2]:\n",
    "            alternating = False\n",
    "    \n",
    "    if alternating:\n",
    "        return 4\n",
    "    \n",
    "    if progressive:\n",
    "        return 5\n",
    "\n",
    "    return 10\n"
   ]
  },
  {
   "cell_type": "code",
   "execution_count": null,
   "metadata": {},
   "outputs": [],
   "source": [
    "N = '12341234'\n",
    "# N = [int(x) for x in N]\n",
    "cache = [-1] * 10000\n",
    "\n",
    "main(0)"
   ]
  },
  {
   "cell_type": "code",
   "execution_count": null,
   "metadata": {},
   "outputs": [],
   "source": []
  }
 ],
 "metadata": {
  "kernelspec": {
   "display_name": "Python 3",
   "language": "python",
   "name": "python3"
  },
  "language_info": {
   "codemirror_mode": {
    "name": "ipython",
    "version": 3
   },
   "file_extension": ".py",
   "mimetype": "text/x-python",
   "name": "python",
   "nbconvert_exporter": "python",
   "pygments_lexer": "ipython3",
   "version": "3.6.5"
  }
 },
 "nbformat": 4,
 "nbformat_minor": 2
}
