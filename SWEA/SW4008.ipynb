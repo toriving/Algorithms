{
 "cells": [
  {
   "cell_type": "code",
   "execution_count": null,
   "metadata": {},
   "outputs": [],
   "source": [
    "'''N = int(input())\n",
    "p, m, mul, div = map(int, input().split())\n",
    "number = list(map(int,input().split()))\n",
    "\n",
    "op = '+'*p+'-'*m+'*'*mul+'/'*div\n",
    "print(op)\n",
    "print(N)\n",
    "print(p, m, mul, div)\n",
    "print(number)'''"
   ]
  },
  {
   "cell_type": "code",
   "execution_count": null,
   "metadata": {},
   "outputs": [],
   "source": [
    "\n",
    "T = int(input())\n",
    "\n",
    "\n",
    "\n",
    "for test_case in range(1, T + 1):\n",
    "    N = int(input())\n",
    "    op = list(map(int, input().split()))\n",
    "    number = list(map(int,input().split()))\n",
    "    \n",
    "    max_ret = -100000001 \n",
    "    min_ret = 100000001 \n",
    "\n",
    "    def calc(num, idx):\n",
    "        global max_ret, min_ret\n",
    "        \n",
    "        if idx == N:\n",
    "            if max_ret < num:\n",
    "                max_ret = num\n",
    "                \n",
    "            if min_ret > num:\n",
    "                min_ret = num\n",
    "        else:\n",
    "            if op[0] > 0:\n",
    "                op[0] -= 1\n",
    "                calc(num + number[idx], idx + 1)\n",
    "                op[0] += 1\n",
    "\n",
    "            if op[1] > 0:\n",
    "                op[1] -= 1\n",
    "                calc(num - number[idx], idx + 1)\n",
    "                op[1] += 1\n",
    "\n",
    "            if op[2] > 0:\n",
    "                op[2] -= 1\n",
    "                calc(num * number[idx], idx + 1)\n",
    "                op[2] += 1\n",
    "\n",
    "            if op[3] > 0:\n",
    "                op[3] -= 1\n",
    "                calc(int(num / number[idx]), idx + 1)\n",
    "                op[3] += 1\n",
    "            \n",
    "    calc(number[0],1)\n",
    "    \n",
    "    print('#%d' %test_case, max_ret-min_ret)\n"
   ]
  },
  {
   "cell_type": "code",
   "execution_count": null,
   "metadata": {},
   "outputs": [],
   "source": []
  }
 ],
 "metadata": {
  "kernelspec": {
   "display_name": "Python 3",
   "language": "python",
   "name": "python3"
  },
  "language_info": {
   "codemirror_mode": {
    "name": "ipython",
    "version": 3
   },
   "file_extension": ".py",
   "mimetype": "text/x-python",
   "name": "python",
   "nbconvert_exporter": "python",
   "pygments_lexer": "ipython3",
   "version": "3.6.5"
  }
 },
 "nbformat": 4,
 "nbformat_minor": 2
}
