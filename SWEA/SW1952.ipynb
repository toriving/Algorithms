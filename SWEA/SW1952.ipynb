{
 "cells": [
  {
   "cell_type": "code",
   "execution_count": null,
   "metadata": {},
   "outputs": [],
   "source": [
    "def solve(price, use):\n",
    "    dp = [0] * 12\n",
    "    m = [0] * 12\n",
    "    for i in range(12):\n",
    "        if use[i]:\n",
    "            dp[i] += min(use[i] * price[0], price[1])\n",
    "        \n",
    "    for i in range(12):\n",
    "        m[i] = m[i - 1] + dp[i]\n",
    "        if i >= 2:\n",
    "            m[i] = min(m[i], m[i-3] + price[2])\n",
    "    \n",
    "    \n",
    "    return min(m[i], price[3]) \n"
   ]
  },
  {
   "cell_type": "code",
   "execution_count": null,
   "metadata": {},
   "outputs": [],
   "source": [
    "if __name__ == '__main__':\n",
    "#     T = int(input())\n",
    "    price = list(map(int,input().split()))\n",
    "    use = list(map(int,input().split()))\n",
    "    answer = solve(price, use)\n",
    "    print(answer)"
   ]
  },
  {
   "cell_type": "code",
   "execution_count": null,
   "metadata": {},
   "outputs": [],
   "source": []
  }
 ],
 "metadata": {
  "kernelspec": {
   "display_name": "Python 3",
   "language": "python",
   "name": "python3"
  },
  "language_info": {
   "codemirror_mode": {
    "name": "ipython",
    "version": 3
   },
   "file_extension": ".py",
   "mimetype": "text/x-python",
   "name": "python",
   "nbconvert_exporter": "python",
   "pygments_lexer": "ipython3",
   "version": "3.6.5"
  }
 },
 "nbformat": 4,
 "nbformat_minor": 2
}
