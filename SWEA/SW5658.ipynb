{
 "cells": [
  {
   "cell_type": "code",
   "execution_count": null,
   "metadata": {},
   "outputs": [],
   "source": [
    "def solve(N, K, problem):\n",
    "    max_rotation = N // 4\n",
    "    problem += problem[:max_rotation]\n",
    "    print(problem)\n",
    "    hex_set = set()\n",
    "    for i in range(4):\n",
    "        for j in range(max_rotation):\n",
    "            hex_set.add(int(problem[i*max_rotation+j:(i+1)*max_rotation+j],16))\n",
    "            print(problem[i*max_rotation+j:(i+1)*max_rotation+j])\n",
    "    print('-'*10)\n",
    "    print(sorted(hex_set, reverse=True)[K-1])"
   ]
  },
  {
   "cell_type": "code",
   "execution_count": null,
   "metadata": {},
   "outputs": [],
   "source": [
    "if __name__ == '__main__':\n",
    "#     T = int(input())\n",
    "    N, K = map(int, input().split())\n",
    "    problem = input()\n",
    "    solve(N,K,problem)"
   ]
  },
  {
   "cell_type": "code",
   "execution_count": null,
   "metadata": {},
   "outputs": [],
   "source": []
  }
 ],
 "metadata": {
  "kernelspec": {
   "display_name": "Python 3",
   "language": "python",
   "name": "python3"
  },
  "language_info": {
   "codemirror_mode": {
    "name": "ipython",
    "version": 3
   },
   "file_extension": ".py",
   "mimetype": "text/x-python",
   "name": "python",
   "nbconvert_exporter": "python",
   "pygments_lexer": "ipython3",
   "version": "3.6.5"
  }
 },
 "nbformat": 4,
 "nbformat_minor": 2
}
