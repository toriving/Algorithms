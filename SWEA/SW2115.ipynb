{
 "cells": [
  {
   "cell_type": "code",
   "execution_count": null,
   "metadata": {},
   "outputs": [],
   "source": [
    "'''N, M, C = 4, 2, 13\n",
    "MAP = \\\n",
    "[[6, 1, 9, 7],    \n",
    "[9, 8, 5, 8],\n",
    "[3, 4, 5, 3],\n",
    "[8, 2, 6, 7]]'''"
   ]
  },
  {
   "cell_type": "code",
   "execution_count": null,
   "metadata": {},
   "outputs": [],
   "source": [
    "'''N, M, C = 5, 2, 11\n",
    "MAP = \\\n",
    "[[7, 5, 9, 9, 6],    \n",
    "[7, 3, 7, 9, 3],\n",
    "[1, 7, 1, 4, 5],\n",
    "[1, 7, 9, 2, 6],\n",
    "[6, 6, 8, 3, 8]]'''"
   ]
  },
  {
   "cell_type": "code",
   "execution_count": null,
   "metadata": {},
   "outputs": [],
   "source": [
    "A, idx_a = check(MAP)\n",
    "B, idx_b = check(MAP)\n",
    "Max = 0\n",
    "for i in range(len(A)):\n",
    "    store = [[0] * 4 for x in range(4)]\n",
    "    \n",
    "    for j in range(M):\n",
    "        store[idx_a[i][0]][idx_a[i][1]+j] = 1\n",
    "        \n",
    "    for k in range(len(B)):\n",
    "        flag = False\n",
    "        S = 0\n",
    "        for j in range(M):\n",
    "            print(idx_b[k][1]+ j)\n",
    "            if store[idx_b[k][0]][idx_b[k][1]+j]:\n",
    "                flag = True\n",
    "                break\n",
    "        if flag:\n",
    "            continue\n",
    "        \n",
    "        S += sq(A[i])\n",
    "        S += sq(B[k])\n",
    "\n",
    "        Max = max(S, Max)\n",
    "\n",
    "print(Max)\n",
    "        "
   ]
  },
  {
   "cell_type": "code",
   "execution_count": null,
   "metadata": {},
   "outputs": [],
   "source": [
    "def sq(lst):\n",
    "    global C\n",
    "    tmp = []\n",
    "    for x in range(1, len(lst)+1):\n",
    "        tmp.extend(list(combinations(lst,x)))\n",
    "    s = 0\n",
    "    for x in tmp:\n",
    "        if sum(x) > C:\n",
    "            continue\n",
    "        t = 0\n",
    "        for y in x:\n",
    "            t += y**2\n",
    "        s = max(t,s)\n",
    "\n",
    "    return s"
   ]
  },
  {
   "cell_type": "code",
   "execution_count": null,
   "metadata": {},
   "outputs": [],
   "source": [
    "def check(m):\n",
    "    lst = []\n",
    "    idx = []\n",
    "    for i in range(N):\n",
    "        for j in range(N-1):\n",
    "            if j + M <= N:\n",
    "                lst.append(m[i][j:j+M])\n",
    "                idx.append([i, j])\n",
    "\n",
    "    return lst, idx"
   ]
  },
  {
   "cell_type": "code",
   "execution_count": null,
   "metadata": {},
   "outputs": [],
   "source": []
  }
 ],
 "metadata": {
  "kernelspec": {
   "display_name": "Python 3",
   "language": "python",
   "name": "python3"
  },
  "language_info": {
   "codemirror_mode": {
    "name": "ipython",
    "version": 3
   },
   "file_extension": ".py",
   "mimetype": "text/x-python",
   "name": "python",
   "nbconvert_exporter": "python",
   "pygments_lexer": "ipython3",
   "version": "3.6.5"
  }
 },
 "nbformat": 4,
 "nbformat_minor": 2
}
