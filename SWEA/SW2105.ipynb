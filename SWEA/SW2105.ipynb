{
 "cells": [
  {
   "cell_type": "code",
   "execution_count": null,
   "metadata": {},
   "outputs": [],
   "source": [
    "'''N = int(input())\n",
    "lst = []\n",
    "store = [0] * 100\n",
    "for _ in range(N):\n",
    "    lst.append(list(map(int,input().split())))\n",
    "ret = -1\n",
    "dx = [1, 1, -1, -1]\n",
    "dy = [1, -1, -1, 1]'''"
   ]
  },
  {
   "cell_type": "code",
   "execution_count": null,
   "metadata": {},
   "outputs": [],
   "source": [
    "for x in range(N):\n",
    "    for y in range(N):\n",
    "        sx = x\n",
    "        sy = y\n",
    "        dfs(sx, sy, 0, 0)\n",
    "print(ret)"
   ]
  },
  {
   "cell_type": "code",
   "execution_count": null,
   "metadata": {},
   "outputs": [],
   "source": [
    "def dfs(x, y, d, cnt):\n",
    "    global sx, sy, ret, store\n",
    "    if d > 3:\n",
    "        return\n",
    "    if x == sx and y == sy and d == 3:\n",
    "        ret = max(ret, cnt)\n",
    "    \n",
    "    if store[lst[x][y]]:\n",
    "        return\n",
    "    \n",
    "    store[lst[x][y]] = 1\n",
    "    \n",
    "    nx = x + dx[d]\n",
    "    ny = y + dy[d]\n",
    "    \n",
    "    \n",
    "    if nx >= 0 and ny >=0 and nx < N and ny < N:\n",
    "        dfs(nx, ny, d, cnt+1)\n",
    "        dfs(nx, ny, d+1, cnt+1)\n",
    "        \n",
    "    store[lst[x][y]] = 0\n",
    "    \n",
    "    return"
   ]
  },
  {
   "cell_type": "code",
   "execution_count": null,
   "metadata": {},
   "outputs": [],
   "source": []
  }
 ],
 "metadata": {
  "kernelspec": {
   "display_name": "Python 3",
   "language": "python",
   "name": "python3"
  },
  "language_info": {
   "codemirror_mode": {
    "name": "ipython",
    "version": 3
   },
   "file_extension": ".py",
   "mimetype": "text/x-python",
   "name": "python",
   "nbconvert_exporter": "python",
   "pygments_lexer": "ipython3",
   "version": "3.6.5"
  }
 },
 "nbformat": 4,
 "nbformat_minor": 2
}
