{
 "cells": [
  {
   "cell_type": "code",
   "execution_count": null,
   "metadata": {},
   "outputs": [],
   "source": [
    "'''direction = [[0,0], [0,-1], [1,0], [0,1], [1,0]]\n",
    "MAP = [[0] * 11 for x in range(11)]\n",
    "A = [1, 1]\n",
    "B = [10, 10]\n",
    "BC = [[[4,4],1,100], [[7,10],3,40], [[6,3],2,70]]'''"
   ]
  },
  {
   "cell_type": "code",
   "execution_count": null,
   "metadata": {},
   "outputs": [],
   "source": [
    "'''Amove = [2, 2, 3, 2, 2, 2, 2, 3, 3, 4, 4, 3, 2, 2, 3, 3, 3, 2, 2, 3]\n",
    "Bmove = [4, 4, 1, 4, 4, 1, 4, 4, 1, 1, 1, 4, 1, 4, 3, 3, 3, 3, 3, 3]'''"
   ]
  },
  {
   "cell_type": "code",
   "execution_count": null,
   "metadata": {},
   "outputs": [],
   "source": [
    "T = int(input())\n",
    "M, A = map(int,input().split())\n",
    "Amove = list(map(int, input().split()))\n",
    "Bmove = list(map(int, input().split()))\n",
    "BC = []\n",
    "for _ in range(3):\n",
    "    tmp = list(map(int, input().split()))\n",
    "    BC.append([tmp[0:2], tmp[2], tmp[3]])\n"
   ]
  },
  {
   "cell_type": "code",
   "execution_count": null,
   "metadata": {},
   "outputs": [],
   "source": [
    "def distance(a, x):\n",
    "    return abs(a[0] - x[0]) + abs(a[1] - x[1])\n",
    "\n",
    "def check(a, x):\n",
    "    chk = [False] * S\n",
    "    for i, bc in enumerate(x):\n",
    "        if distance(a, bc[0]) <= bc[1]:\n",
    "            chk[i] = True\n",
    "    return chk\n",
    "\n",
    "def charge(x, check):\n",
    "    ac = 0\n",
    "    for i in range(len(check)):\n",
    "        if check[i]:\n",
    "            ac = max(ac, x[i][2])\n",
    "    return ac\n",
    "\n",
    "def double_charge(x, acheck, bcheck):\n",
    "    ret = 0\n",
    "    for i in range(len(acheck)):\n",
    "        for j in range(len(bcheck)):\n",
    "            if i == j:\n",
    "                continue\n",
    "            if acheck[i] and bcheck[j]:\n",
    "                ret = max(x[i][2] + x[j][2], ret)\n",
    "    \n",
    "    return ret\n",
    "\n",
    "T = int(input())\n",
    "direction = [[0,0], [0,-1], [1,0], [0,1], [-1,0]]   \n",
    "\n",
    "# 여러개의 테스트 케이스가 주어지므로, 각각을 처리합니다.\n",
    "for test_case in range(1, T + 1):\n",
    "    M, S = map(int,input().split())\n",
    "    Amove = list(map(int, input().split()))\n",
    "    Bmove = list(map(int, input().split()))\n",
    "    BC = []\n",
    "    for _ in range(S):\n",
    "        tmp = list(map(int, input().split()))\n",
    "        BC.append([tmp[0:2], tmp[2], tmp[3]])\n",
    "        \n",
    "    \n",
    "    A = [1, 1]\n",
    "    B = [10, 10]\n",
    "\n",
    "    SUM = 0\n",
    "    \n",
    "    for i in range(M+1):\n",
    " \n",
    "        ret = SUM\n",
    "        Acheck = check(A, BC)\n",
    "        Bcheck = check(B, BC)\n",
    "        if sum(Acheck) >= 1 and sum(Bcheck) >= 1:\n",
    "            if Acheck == Bcheck and sum(Acheck) == 1:\n",
    "                SUM += charge(BC, Acheck)\n",
    "            else:\n",
    "\n",
    "                SUM += double_charge(BC, Acheck, Bcheck)\n",
    "\n",
    "        elif sum(Acheck) >= 1 and sum(Bcheck) == 0:\n",
    "            SUM += charge(A, BC, Acheck)\n",
    "\n",
    "        elif sum(Acheck) == 0 and sum(Bcheck) >= 1:\n",
    "            SUM += charge(B, BC, Bcheck)\n",
    "\n",
    "\n",
    "        try:\n",
    "            A[0] = A[0] + direction[Amove[i]][0]\n",
    "            A[1] = A[1] + direction[Amove[i]][1]\n",
    "            B[0] = B[0] + direction[Bmove[i]][0]\n",
    "            B[1] = B[1] + direction[Bmove[i]][1]\n",
    "        except:\n",
    "            pass\n",
    "        \n",
    "    print('#%s' %test_case,SUM)"
   ]
  },
  {
   "cell_type": "code",
   "execution_count": null,
   "metadata": {},
   "outputs": [],
   "source": []
  }
 ],
 "metadata": {
  "kernelspec": {
   "display_name": "Python 3",
   "language": "python",
   "name": "python3"
  },
  "language_info": {
   "codemirror_mode": {
    "name": "ipython",
    "version": 3
   },
   "file_extension": ".py",
   "mimetype": "text/x-python",
   "name": "python",
   "nbconvert_exporter": "python",
   "pygments_lexer": "ipython3",
   "version": "3.6.5"
  }
 },
 "nbformat": 4,
 "nbformat_minor": 2
}
