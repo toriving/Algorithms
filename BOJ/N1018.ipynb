{
 "cells": [
  {
   "cell_type": "code",
   "execution_count": null,
   "metadata": {},
   "outputs": [],
   "source": [
    "def solve(board):\n",
    "    ret = 987654321\n",
    "\n",
    "    for i in range(N-7):\n",
    "        for j in range(M-7):\n",
    "            temp = [0, 0]\n",
    "            for y in range(i, i+8):\n",
    "                for x in range(j, j+8):\n",
    "                    if (y+x) % 2 == 0 and board[y][x] != 'W':\n",
    "                        temp[0] += 1\n",
    "                        \n",
    "                    if (y+x) % 2 == 1 and board[y][x] != 'B':\n",
    "                        temp[0] += 1\n",
    "\n",
    "                    if (y+x) % 2 == 0 and board[y][x] != 'B':\n",
    "                        temp[1] += 1\n",
    "\n",
    "                    if (y+x) % 2 == 1 and board[y][x] != 'W':\n",
    "                        temp[1] += 1    \n",
    "            \n",
    "            ret = min(ret, temp[0], temp[1])\n",
    "\n",
    "    return ret\n",
    "            "
   ]
  },
  {
   "cell_type": "code",
   "execution_count": null,
   "metadata": {},
   "outputs": [],
   "source": [
    "if __name__ == \"__main__\" :\n",
    "    N, M = map(int, input().split())\n",
    "    board = []\n",
    "    for i in range(N):\n",
    "        board.append(input()) \n",
    "    \n",
    "    print(solve(board))\n",
    "    "
   ]
  },
  {
   "cell_type": "code",
   "execution_count": null,
   "metadata": {},
   "outputs": [],
   "source": []
  }
 ],
 "metadata": {
  "kernelspec": {
   "display_name": "Python 3",
   "language": "python",
   "name": "python3"
  },
  "language_info": {
   "codemirror_mode": {
    "name": "ipython",
    "version": 3
   },
   "file_extension": ".py",
   "mimetype": "text/x-python",
   "name": "python",
   "nbconvert_exporter": "python",
   "pygments_lexer": "ipython3",
   "version": "3.6.5"
  }
 },
 "nbformat": 4,
 "nbformat_minor": 2
}
