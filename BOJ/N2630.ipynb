{
 "cells": [
  {
   "cell_type": "code",
   "execution_count": null,
   "metadata": {},
   "outputs": [],
   "source": [
    "def solve(n, x, y):\n",
    "    global MAP, white, blue\n",
    "    color = MAP[x][y]\n",
    "    half = int(n/2)\n",
    "    for i in range(x, x+n):\n",
    "        for j in range(y, y+n):\n",
    "            if MAP[i][j] != color:\n",
    "                solve(half, x, y)\n",
    "                solve(half, x + half, y)\n",
    "                solve(half, x, y+half)\n",
    "                solve(half, x+half, y+half)\n",
    "                return\n",
    "    if color == 1:\n",
    "        blue += 1\n",
    "    else:\n",
    "        white += 1"
   ]
  },
  {
   "cell_type": "code",
   "execution_count": null,
   "metadata": {},
   "outputs": [],
   "source": [
    "if __name__ == \"__main__\":\n",
    "    white = 0\n",
    "    blue = 0\n",
    "    n = int(input())\n",
    "    MAP = []\n",
    "    for _ in range(n):\n",
    "        MAP.append(list(map(int, input().split())))\n",
    "    solve(n, 0, 0)\n",
    "    print(white)\n",
    "    print(blue)"
   ]
  },
  {
   "cell_type": "code",
   "execution_count": null,
   "metadata": {},
   "outputs": [],
   "source": []
  }
 ],
 "metadata": {
  "kernelspec": {
   "display_name": "Python 3",
   "language": "python",
   "name": "python3"
  },
  "language_info": {
   "codemirror_mode": {
    "name": "ipython",
    "version": 3
   },
   "file_extension": ".py",
   "mimetype": "text/x-python",
   "name": "python",
   "nbconvert_exporter": "python",
   "pygments_lexer": "ipython3",
   "version": "3.6.5"
  }
 },
 "nbformat": 4,
 "nbformat_minor": 2
}
