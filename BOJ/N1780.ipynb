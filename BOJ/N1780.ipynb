{
 "cells": [
  {
   "cell_type": "code",
   "execution_count": null,
   "metadata": {},
   "outputs": [],
   "source": [
    "def solve(n, x, y):\n",
    "    global board, positive, zero, negative\n",
    "    number = board[x][y]\n",
    "    third = int(n / 3)\n",
    "    for i in range(x, x + n):\n",
    "        for j in range(y, y + n):\n",
    "            if board[i][j] != number:\n",
    "                solve(third, x, y)\n",
    "                solve(third, x + third, y)\n",
    "                solve(third, x + 2 * third, y)\n",
    "                solve(third, x, y + third)\n",
    "                solve(third, x + third, y + third)\n",
    "                solve(third, x + 2 * third, y + third)\n",
    "                solve(third, x, y + 2 * third)\n",
    "                solve(third, x + third, y + 2 * third)\n",
    "                solve(third, x + 2 * third, y + 2 * third)\n",
    "                return\n",
    "\n",
    "    if number == 1:\n",
    "        positive += 1\n",
    "    elif number == 0:\n",
    "        zero += 1\n",
    "    else:\n",
    "        negative += 1"
   ]
  },
  {
   "cell_type": "code",
   "execution_count": null,
   "metadata": {},
   "outputs": [],
   "source": [
    "if __name__ == '__main__':\n",
    "    n = int(input())\n",
    "    board = []\n",
    "    negative = 0\n",
    "    zero = 0\n",
    "    positive = 0\n",
    "    for _ in range(n):\n",
    "        board.append(list(map(int, input().split())))\n",
    "    solve(n, 0, 0)\n",
    "    print(negative)\n",
    "    print(zero)\n",
    "    print(positive)"
   ]
  },
  {
   "cell_type": "code",
   "execution_count": null,
   "metadata": {},
   "outputs": [],
   "source": []
  }
 ],
 "metadata": {
  "kernelspec": {
   "display_name": "Python 3",
   "language": "python",
   "name": "python3"
  },
  "language_info": {
   "codemirror_mode": {
    "name": "ipython",
    "version": 3
   },
   "file_extension": ".py",
   "mimetype": "text/x-python",
   "name": "python",
   "nbconvert_exporter": "python",
   "pygments_lexer": "ipython3",
   "version": "3.6.5"
  }
 },
 "nbformat": 4,
 "nbformat_minor": 2
}
