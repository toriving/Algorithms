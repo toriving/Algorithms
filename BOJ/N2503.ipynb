{
 "cells": [
  {
   "cell_type": "code",
   "execution_count": null,
   "metadata": {},
   "outputs": [],
   "source": [
    "import sys\n",
    "from itertools import permutations\n",
    "\n",
    "def solve(A):\n",
    "    cand = list(permutations('123456789',3))\n",
    "    ret = [True] * len(cand)\n",
    "\n",
    "    for a in A:\n",
    "        prd, prds, prdb = a.split()\n",
    "        for idx,c in enumerate(cand):\n",
    "            ball = 0\n",
    "            strike = 0\n",
    "            for i in range(3):\n",
    "                for j in range(3):\n",
    "                    if i == j and prd[i] == c[j]:\n",
    "                        strike += 1\n",
    "\n",
    "                    if i != j and prd[i] == c[j]:\n",
    "                        ball += 1\n",
    "\n",
    "            if int(prds) != strike or int(prdb) != ball:\n",
    "                ret[idx] = False\n",
    "\n",
    "    print(sum(ret))\n",
    "\n",
    "\n",
    "if __name__ == \"__main__\":\n",
    "\n",
    "    N = int(sys.stdin.readline())\n",
    "    A = list(sys.stdin.readline().strip() for i in range(N))\n",
    "    solve(A)"
   ]
  }
 ],
 "metadata": {
  "kernelspec": {
   "display_name": "Python 3",
   "language": "python",
   "name": "python3"
  },
  "language_info": {
   "codemirror_mode": {
    "name": "ipython",
    "version": 3
   },
   "file_extension": ".py",
   "mimetype": "text/x-python",
   "name": "python",
   "nbconvert_exporter": "python",
   "pygments_lexer": "ipython3",
   "version": "3.6.5"
  }
 },
 "nbformat": 4,
 "nbformat_minor": 2
}
