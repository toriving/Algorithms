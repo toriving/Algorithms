{
 "cells": [
  {
   "cell_type": "code",
   "execution_count": null,
   "metadata": {},
   "outputs": [],
   "source": [
    "def solve(n, x, y):\n",
    "    global board\n",
    "    color = board[x][y]\n",
    "    half = int(n/2)\n",
    "    for i in range(x, x+n):\n",
    "        for j in range(y, y+n):\n",
    "            if board[i][j] != color:\n",
    "                print('(', end='')\n",
    "                solve(half, x, y)\n",
    "                solve(half, x, y+half)\n",
    "                solve(half, x+half, y)\n",
    "                solve(half, x+half, y+half)\n",
    "                print(')', end='')\n",
    "                return\n",
    "            \n",
    "    if color == '1':\n",
    "        print(1, end='')\n",
    "    else:\n",
    "        print(0, end='')\n",
    "    \n",
    "    \n"
   ]
  },
  {
   "cell_type": "code",
   "execution_count": null,
   "metadata": {},
   "outputs": [],
   "source": [
    "if __name__ == \"__main__\":\n",
    "    n = int(input())\n",
    "    board = []\n",
    "    for _ in range(n):\n",
    "        board.extend(input().split())\n",
    "    print(board)\n",
    "    solve(n, 0, 0)"
   ]
  },
  {
   "cell_type": "code",
   "execution_count": null,
   "metadata": {},
   "outputs": [],
   "source": []
  }
 ],
 "metadata": {
  "kernelspec": {
   "display_name": "Python 3",
   "language": "python",
   "name": "python3"
  },
  "language_info": {
   "codemirror_mode": {
    "name": "ipython",
    "version": 3
   },
   "file_extension": ".py",
   "mimetype": "text/x-python",
   "name": "python",
   "nbconvert_exporter": "python",
   "pygments_lexer": "ipython3",
   "version": "3.6.5"
  }
 },
 "nbformat": 4,
 "nbformat_minor": 2
}
