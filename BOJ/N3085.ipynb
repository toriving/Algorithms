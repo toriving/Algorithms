{
 "cells": [
  {
   "cell_type": "code",
   "execution_count": null,
   "metadata": {},
   "outputs": [],
   "source": [
    "import sys\n",
    "\n",
    "\n",
    "def solve(A, N):\n",
    "    ret = 0\n",
    "    for i in range(N):\n",
    "        for j in range(N-1):\n",
    "            A[i][j+1], A[i][j] = A[i][j], A[i][j+1]\n",
    "            ret = max(ret,check_row(A,i), check_col(A, j), check_col(A, j+1))\n",
    "            A[i][j+1], A[i][j] = A[i][j], A[i][j+1]\n",
    "            A[j+1][i], A[j][i] = A[j][i], A[j+1][i]\n",
    "            ret = max(ret, check_col(A,i), check_row(A, j), check_row(A, j+1))\n",
    "            A[j+1][i], A[j][i] = A[j][i], A[j+1][i]\n",
    "\n",
    "    return ret\n",
    "\n",
    "def check_row(A, y):\n",
    "    ret = 1\n",
    "    temp = 1\n",
    "    for i in range(N-1):\n",
    "        if A[y][i] == A[y][i+1]:\n",
    "            temp += 1\n",
    "        else:\n",
    "            ret = max(ret, temp)\n",
    "            temp = 1\n",
    "        ret = max(ret, temp)\n",
    "    return ret\n",
    "\n",
    "def check_col(A, x):\n",
    "    ret = 1\n",
    "    temp = 1\n",
    "    for i in range(N-1):\n",
    "        if A[i][x] == A[i+1][x]:\n",
    "            temp += 1\n",
    "        else:\n",
    "            ret = max(ret, temp)\n",
    "            temp = 1\n",
    "        ret = max(ret, temp)\n",
    "    return ret\n",
    "\n",
    "\n",
    "\n",
    "if __name__ == \"__main__\":\n",
    "    N = int(input())\n",
    "    A = list(' '.join(sys.stdin.readline().strip()).split() for i in range(N))\n",
    "    print(solve(A,N))\n"
   ]
  },
  {
   "cell_type": "code",
   "execution_count": null,
   "metadata": {},
   "outputs": [],
   "source": []
  }
 ],
 "metadata": {
  "kernelspec": {
   "display_name": "Python 3",
   "language": "python",
   "name": "python3"
  },
  "language_info": {
   "codemirror_mode": {
    "name": "ipython",
    "version": 3
   },
   "file_extension": ".py",
   "mimetype": "text/x-python",
   "name": "python",
   "nbconvert_exporter": "python",
   "pygments_lexer": "ipython3",
   "version": "3.6.5"
  }
 },
 "nbformat": 4,
 "nbformat_minor": 2
}
