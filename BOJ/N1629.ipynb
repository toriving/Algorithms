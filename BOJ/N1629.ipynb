{
 "cells": [
  {
   "cell_type": "code",
   "execution_count": null,
   "metadata": {},
   "outputs": [],
   "source": [
    "if __name__ == '__main__':\n",
    "    A, B, C = map(int, input().split())\n",
    "    print(solve(A, B, C))"
   ]
  },
  {
   "cell_type": "code",
   "execution_count": null,
   "metadata": {},
   "outputs": [],
   "source": [
    "def solve(A, B, C):\n",
    "    if B == 0:\n",
    "        return 1\n",
    "    elif B == 1:\n",
    "        return A\n",
    "    elif B % 2 == 1:\n",
    "        return solve(A, B-1, C) * A\n",
    "    else:\n",
    "        ret = solve(A, B//2, C) \n",
    "        ret %= C\n",
    "        return ret ** 2 % C"
   ]
  },
  {
   "cell_type": "code",
   "execution_count": null,
   "metadata": {},
   "outputs": [],
   "source": [
    "def solve(A, B, C):\n",
    "    if B == 0:\n",
    "        return 1\n",
    "    val = solve(A, B//2, C)\n",
    "    val = val**2 % C\n",
    "    if(B%2==0):\n",
    "        return val\n",
    "    else:\n",
    "        return (val*A)%C "
   ]
  },
  {
   "cell_type": "code",
   "execution_count": null,
   "metadata": {},
   "outputs": [],
   "source": []
  }
 ],
 "metadata": {
  "kernelspec": {
   "display_name": "Python 3",
   "language": "python",
   "name": "python3"
  },
  "language_info": {
   "codemirror_mode": {
    "name": "ipython",
    "version": 3
   },
   "file_extension": ".py",
   "mimetype": "text/x-python",
   "name": "python",
   "nbconvert_exporter": "python",
   "pygments_lexer": "ipython3",
   "version": "3.6.5"
  }
 },
 "nbformat": 4,
 "nbformat_minor": 2
}
