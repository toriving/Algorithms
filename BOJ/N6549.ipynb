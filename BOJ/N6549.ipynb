{
 "cells": [
  {
   "cell_type": "code",
   "execution_count": null,
   "metadata": {},
   "outputs": [],
   "source": [
    "if __name__ == '__main__':\n",
    "    \n",
    "    while(1):\n",
    "        h = [int(x) for x in input().split()]\n",
    "        n = h[0]\n",
    "        h = h[1:]\n",
    "        if n == 0:\n",
    "            break\n",
    "        print(solve(0, len(h)-1))"
   ]
  },
  {
   "cell_type": "code",
   "execution_count": null,
   "metadata": {},
   "outputs": [],
   "source": [
    "def solve(left, right):\n",
    "    global h\n",
    "    if left == right:\n",
    "        return h[left]\n",
    "    \n",
    "    half = int((left+right)/2)\n",
    "    area = max(solve(left, half), solve(half+1, right))\n",
    "    \n",
    "    lo = half\n",
    "    hi = half+1\n",
    "    \n",
    "    height = min(h[lo], h[hi])\n",
    "    area = max(area, height * 2)\n",
    "    \n",
    "    \n",
    "    while(left < lo or hi < right):\n",
    "        if hi < right and (lo == left or h[lo-1] < h[hi+1]):\n",
    "            hi += 1\n",
    "            height = min(height, h[hi])\n",
    "        else:\n",
    "            lo -= 1\n",
    "            height = min(height, h[lo])\n",
    "    \n",
    "            \n",
    "        area = max(area, (hi-lo+1)*height)\n",
    "        \n",
    "    return area\n",
    "    \n"
   ]
  },
  {
   "cell_type": "code",
   "execution_count": null,
   "metadata": {},
   "outputs": [],
   "source": [
    "import fnmatch\n",
    "def wild(w, s):\n",
    "    if fnmatch.fnmatch(w, s):\n",
    "        return True\n",
    "    else:\n",
    "        return False"
   ]
  },
  {
   "cell_type": "code",
   "execution_count": null,
   "metadata": {},
   "outputs": [],
   "source": [
    "import sys\n",
    "import fnmatch\n",
    "\n",
    "def wild(s, w):\n",
    "    if fnmatch.fnmatch(s, w):\n",
    "        return True\n",
    "    else:\n",
    "        return False\n",
    "    \n",
    "ret = []\n",
    "for i in range(int(sys.stdin.readline())):\n",
    "    S = sys.stdin.readline().strip()\n",
    "    N = int(sys.stdin.readline())\n",
    "\n",
    "    for i in range(N):\n",
    "        W = (sys.stdin.readline().strip())\n",
    "\n",
    "        if wild(W,S):\n",
    "            ret.append(W)\n",
    "print(sorted(ret))"
   ]
  },
  {
   "cell_type": "code",
   "execution_count": null,
   "metadata": {},
   "outputs": [],
   "source": []
  }
 ],
 "metadata": {
  "kernelspec": {
   "display_name": "Python 3",
   "language": "python",
   "name": "python3"
  },
  "language_info": {
   "codemirror_mode": {
    "name": "ipython",
    "version": 3
   },
   "file_extension": ".py",
   "mimetype": "text/x-python",
   "name": "python",
   "nbconvert_exporter": "python",
   "pygments_lexer": "ipython3",
   "version": "3.6.5"
  }
 },
 "nbformat": 4,
 "nbformat_minor": 2
}
