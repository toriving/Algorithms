{
 "cells": [
  {
   "cell_type": "code",
   "execution_count": null,
   "metadata": {},
   "outputs": [],
   "source": [
    "if __name__ == \"__main__\":\n",
    "    a = []\n",
    "    for _ in range(9):\n",
    "        a.append(int(input()))\n",
    "    a = solve(a)\n",
    "    a.sort()\n",
    "    for x in a:\n",
    "        print(x)"
   ]
  },
  {
   "cell_type": "code",
   "execution_count": null,
   "metadata": {},
   "outputs": [],
   "source": [
    "def solve(A):\n",
    "    sum_a = sum(A)\n",
    "    for i in range(9):\n",
    "        for j in range(9):\n",
    "            if i == j:\n",
    "                continue\n",
    "            if sum_a - A[i] - A[j] == 100:\n",
    "                temp = A[i]\n",
    "                temp2 = A[j]\n",
    "                A.remove(temp)\n",
    "                A.remove(temp2)\n",
    "                return A"
   ]
  },
  {
   "cell_type": "code",
   "execution_count": null,
   "metadata": {},
   "outputs": [],
   "source": []
  }
 ],
 "metadata": {
  "kernelspec": {
   "display_name": "Python 3",
   "language": "python",
   "name": "python3"
  },
  "language_info": {
   "codemirror_mode": {
    "name": "ipython",
    "version": 3
   },
   "file_extension": ".py",
   "mimetype": "text/x-python",
   "name": "python",
   "nbconvert_exporter": "python",
   "pygments_lexer": "ipython3",
   "version": "3.6.5"
  }
 },
 "nbformat": 4,
 "nbformat_minor": 2
}
